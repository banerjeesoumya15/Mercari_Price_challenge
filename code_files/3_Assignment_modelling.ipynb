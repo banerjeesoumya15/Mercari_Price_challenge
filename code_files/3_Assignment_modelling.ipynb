{
 "cells": [
  {
   "cell_type": "code",
   "execution_count": 1,
   "metadata": {},
   "outputs": [],
   "source": [
    "# !pip install lightgbm"
   ]
  },
  {
   "cell_type": "code",
   "execution_count": 2,
   "metadata": {},
   "outputs": [],
   "source": [
    "import warnings\n",
    "warnings.filterwarnings(\"ignore\")\n",
    "import pickle\n",
    "from datetime import datetime\n",
    "import numpy as np\n",
    "import pandas as pd\n",
    "from scipy.sparse import hstack\n",
    "from sklearn.metrics import mean_squared_log_error\n",
    "from sklearn.linear_model import Ridge\n",
    "from sklearn.model_selection import GridSearchCV\n",
    "import matplotlib.pyplot as plt\n",
    "#from tqdm import tqdm\n",
    "# import lightgbm as lgb"
   ]
  },
  {
   "cell_type": "code",
   "execution_count": 3,
   "metadata": {},
   "outputs": [
    {
     "name": "stdout",
     "output_type": "stream",
     "text": [
      "y_train.shape= (993295,)--------------------------------- y_test.shape= (489236,)\n",
      "y_log_train.shape= (993295,)----------------------------- y_log_test.shape= (489236,)\n",
      "train_brand_encode.shape= (993295, 82230)---------------------- test_brand_encode.shape= (489236, 82230)\n",
      "train_shipping_ohe.shape= (993295, 2)---------------------- test_shipping_ohe.shape= (489236, 2)\n",
      "train_item_cond_ohe.shape= (993295, 5)--------------------- test_item_cond_ohe.shape= (489236, 5)\n",
      "train_branded_ohe.shape= (993295, 2)----------------------- test_branded_ohe.shape= (489236, 2)\n",
      "train_desc_tfidf.shape= (993295, 1000000)------------------------ test_desc_tfidf.shape= (489236, 1000000)\n",
      "train_cat_bow.shape= (993295, 1117)--------------------------- test_cat_bow.shape= (489236, 1117)\n",
      "train_grouped_mean_std.shape= (993295, 1)------------------ test_grouped_mean_std.shape= (489236, 1)\n",
      "train_desc_senti.shape= (993295, 1)------------------------ test_desc_senti.shape= (489236, 1)\n"
     ]
    }
   ],
   "source": [
    "# load the features and the target variable\n",
    "\n",
    "file = open('./preprocess_outputs/y_train', 'rb')\n",
    "y_train = pickle.load(file)\n",
    "file.close()\n",
    "file = open('./preprocess_outputs/y_test', 'rb')\n",
    "y_test = pickle.load(file)\n",
    "file.close()\n",
    "print(\"y_train.shape= {}\".ljust(50, \"-\").format(y_train.shape), \"y_test.shape= {}\".format(y_test.shape))\n",
    "\n",
    "file = open('./preprocess_outputs/y_log_train', 'rb')\n",
    "y_log_train = pickle.load(file)\n",
    "file.close()\n",
    "file = open('./preprocess_outputs/y_log_test', 'rb')\n",
    "y_log_test = pickle.load(file)\n",
    "file.close()\n",
    "print(\"y_log_train.shape= {}\".ljust(50, \"-\").format(y_log_train.shape), \"y_log_test.shape= {}\".format(y_log_test.shape))\n",
    "\n",
    "file = open('./preprocess_outputs/train_brand_encode', 'rb')\n",
    "train_brand_encode = pickle.load(file)\n",
    "file.close()\n",
    "file = open('./preprocess_outputs/test_brand_encode', 'rb')\n",
    "test_brand_encode = pickle.load(file)\n",
    "file.close()\n",
    "print(\"train_brand_encode.shape= {}\".ljust(50, \"-\").format(train_brand_encode.shape), \"test_brand_encode.shape= {}\".format(test_brand_encode.shape))\n",
    "\n",
    "file = open('./preprocess_outputs/train_shipping_ohe', 'rb')\n",
    "train_shipping_ohe = pickle.load(file)\n",
    "file.close()\n",
    "file = open('./preprocess_outputs/test_shipping_ohe', 'rb')\n",
    "test_shipping_ohe = pickle.load(file)\n",
    "file.close()\n",
    "print(\"train_shipping_ohe.shape= {}\".ljust(50, \"-\").format(train_shipping_ohe.shape), \"test_shipping_ohe.shape= {}\".format(test_shipping_ohe.shape))\n",
    "\n",
    "file = open('./preprocess_outputs/train_item_cond_ohe', 'rb')\n",
    "train_item_cond_ohe = pickle.load(file)\n",
    "file.close()\n",
    "file = open('./preprocess_outputs/test_item_cond_ohe', 'rb')\n",
    "test_item_cond_ohe = pickle.load(file)\n",
    "file.close()\n",
    "print(\"train_item_cond_ohe.shape= {}\".ljust(50, \"-\").format(train_item_cond_ohe.shape), \"test_item_cond_ohe.shape= {}\".format(test_item_cond_ohe.shape))\n",
    "\n",
    "file = open('./preprocess_outputs/train_branded_ohe', 'rb')\n",
    "train_branded_ohe = pickle.load(file)\n",
    "file.close()\n",
    "file = open('./preprocess_outputs/test_branded_ohe', 'rb')\n",
    "test_branded_ohe = pickle.load(file)\n",
    "file.close()\n",
    "print(\"train_branded_ohe.shape= {}\".ljust(50, \"-\").format(train_branded_ohe.shape), \"test_branded_ohe.shape= {}\".format(test_branded_ohe.shape))\n",
    "\n",
    "file = open('./preprocess_outputs/train_desc_tfidf', 'rb')\n",
    "train_desc_tfidf = pickle.load(file)\n",
    "file.close()\n",
    "file = open('./preprocess_outputs/test_desc_tfidf', 'rb')\n",
    "test_desc_tfidf = pickle.load(file)\n",
    "file.close()\n",
    "print(\"train_desc_tfidf.shape= {}\".ljust(50, \"-\").format(train_desc_tfidf.shape), \"test_desc_tfidf.shape= {}\".format(test_desc_tfidf.shape))\n",
    "\n",
    "file = open('./preprocess_outputs/train_cat_bow', 'rb')\n",
    "train_cat_bow = pickle.load(file)\n",
    "file.close()\n",
    "file = open('./preprocess_outputs/test_cat_bow', 'rb')\n",
    "test_cat_bow = pickle.load(file)\n",
    "file.close()\n",
    "print(\"train_cat_bow.shape= {}\".ljust(50, \"-\").format(train_cat_bow.shape), \"test_cat_bow.shape= {}\".format(test_cat_bow.shape))\n",
    "\n",
    "file = open('./preprocess_outputs/train_grouped_mean_std', 'rb')\n",
    "train_grouped_mean_std = pickle.load(file)\n",
    "file.close()\n",
    "file = open('./preprocess_outputs/test_grouped_mean_std', 'rb')\n",
    "test_grouped_mean_std = pickle.load(file)\n",
    "file.close()\n",
    "print(\"train_grouped_mean_std.shape= {}\".ljust(50, \"-\").format(train_grouped_mean_std.shape), \"test_grouped_mean_std.shape= {}\".format(test_grouped_mean_std.shape))\n",
    "\n",
    "file = open('./preprocess_outputs/train_desc_senti', 'rb')\n",
    "train_desc_senti = pickle.load(file)\n",
    "file.close()\n",
    "file = open('./preprocess_outputs/test_desc_senti', 'rb')\n",
    "test_desc_senti = pickle.load(file)\n",
    "file.close()\n",
    "print(\"train_desc_senti.shape= {}\".ljust(50, \"-\").format(train_desc_senti.shape), \"test_desc_senti.shape= {}\".format(test_desc_senti.shape))"
   ]
  },
  {
   "cell_type": "code",
   "execution_count": 24,
   "metadata": {},
   "outputs": [
    {
     "name": "stdout",
     "output_type": "stream",
     "text": [
      "(993295, 1083358)\n",
      "(489236, 1083358)\n"
     ]
    }
   ],
   "source": [
    "# preparation of X_train and X_test\n",
    "\n",
    "x_train = hstack((train_brand_encode, train_shipping_ohe, train_item_cond_ohe, train_branded_ohe, train_desc_tfidf,\n",
    "                 train_cat_bow, train_grouped_mean_std, train_desc_senti)).tocsr().astype('float32')\n",
    "\n",
    "x_test = hstack((test_brand_encode, test_shipping_ohe, test_item_cond_ohe, test_branded_ohe, test_desc_tfidf,\n",
    "                 test_cat_bow, test_grouped_mean_std, test_desc_senti)).tocsr().astype('float32')\n",
    "\n",
    "print(x_train.shape)\n",
    "print(x_test.shape)"
   ]
  },
  {
   "cell_type": "markdown",
   "metadata": {},
   "source": [
    "## Evaluation Metric"
   ]
  },
  {
   "cell_type": "code",
   "execution_count": 5,
   "metadata": {},
   "outputs": [],
   "source": [
    "#https://www.kaggle.com/questions-and-answers/60012\n",
    "\n",
    "def rmsle_score(y, y_pred):\n",
    "    return(np.sqrt(mean_squared_log_error(y, y_pred)))"
   ]
  },
  {
   "cell_type": "code",
   "execution_count": 6,
   "metadata": {},
   "outputs": [],
   "source": [
    "#https://lightgbm.readthedocs.io/en/latest/pythonapi/lightgbm.LGBMRegressor.html\n",
    "# see notes section below the fit function\n",
    "\n",
    "def rmsle_lgb(y_true, y_pred):\n",
    "    return 'rmsle_lgb',rmsle_score(y_true, y_pred),False"
   ]
  },
  {
   "cell_type": "markdown",
   "metadata": {},
   "source": [
    "## Ridge model"
   ]
  },
  {
   "cell_type": "code",
   "execution_count": 7,
   "metadata": {},
   "outputs": [],
   "source": [
    "#https://scikit-learn.org/stable/modules/generated/sklearn.linear_model.Ridge.html\n",
    "\n",
    "ridge_model = Ridge(solver='lsqr', fit_intercept=False)"
   ]
  },
  {
   "cell_type": "code",
   "execution_count": 8,
   "metadata": {},
   "outputs": [
    {
     "name": "stdout",
     "output_type": "stream",
     "text": [
      "2020-10-02 13:18:15.345913\n"
     ]
    }
   ],
   "source": [
    "print(datetime.now())"
   ]
  },
  {
   "cell_type": "code",
   "execution_count": 9,
   "metadata": {},
   "outputs": [
    {
     "name": "stdout",
     "output_type": "stream",
     "text": [
      "Fitting 3 folds for each of 7 candidates, totalling 21 fits\n"
     ]
    },
    {
     "name": "stderr",
     "output_type": "stream",
     "text": [
      "[Parallel(n_jobs=-1)]: Using backend LokyBackend with 4 concurrent workers.\n",
      "[Parallel(n_jobs=-1)]: Done  21 out of  21 | elapsed: 14.0min finished\n"
     ]
    },
    {
     "name": "stdout",
     "output_type": "stream",
     "text": [
      "Wall time: 14min 58s\n"
     ]
    },
    {
     "data": {
      "text/plain": [
       "GridSearchCV(cv=3, error_score=nan,\n",
       "             estimator=Ridge(alpha=1.0, copy_X=True, fit_intercept=False,\n",
       "                             max_iter=None, normalize=False, random_state=None,\n",
       "                             solver='lsqr', tol=0.001),\n",
       "             iid='deprecated', n_jobs=-1,\n",
       "             param_grid={'alpha': [0.0001, 0.001, 0.01, 0.1, 1, 10, 100]},\n",
       "             pre_dispatch='2*n_jobs', refit=True, return_train_score=True,\n",
       "             scoring='neg_mean_squared_error', verbose=1)"
      ]
     },
     "execution_count": 9,
     "metadata": {},
     "output_type": "execute_result"
    }
   ],
   "source": [
    "%%time\n",
    "\n",
    "solver = ['lsqr', 'cholesky', 'saga']\n",
    "params = {'alpha':[0.0001, 0.001, 0.01, 0.1, 1, 10, 100]}\n",
    "\n",
    "gs_ridge = GridSearchCV(estimator=ridge_model,\n",
    "                       param_grid=params,\n",
    "                       cv=3,\n",
    "                       scoring='neg_mean_squared_error',\n",
    "                       verbose=1,\n",
    "                       return_train_score=True,\n",
    "                       n_jobs=-1)\n",
    "# gs_ridge.fit(x_train, y_train)\n",
    "gs_ridge.fit(x_train, y_log_train)"
   ]
  },
  {
   "cell_type": "code",
   "execution_count": 10,
   "metadata": {},
   "outputs": [
    {
     "name": "stdout",
     "output_type": "stream",
     "text": [
      "2020-10-02 13:33:13.639578\n"
     ]
    }
   ],
   "source": [
    "print(datetime.now())"
   ]
  },
  {
   "cell_type": "code",
   "execution_count": 11,
   "metadata": {},
   "outputs": [
    {
     "data": {
      "text/html": [
       "<div>\n",
       "<style scoped>\n",
       "    .dataframe tbody tr th:only-of-type {\n",
       "        vertical-align: middle;\n",
       "    }\n",
       "\n",
       "    .dataframe tbody tr th {\n",
       "        vertical-align: top;\n",
       "    }\n",
       "\n",
       "    .dataframe thead th {\n",
       "        text-align: right;\n",
       "    }\n",
       "</style>\n",
       "<table border=\"1\" class=\"dataframe\">\n",
       "  <thead>\n",
       "    <tr style=\"text-align: right;\">\n",
       "      <th></th>\n",
       "      <th>mean_fit_time</th>\n",
       "      <th>std_fit_time</th>\n",
       "      <th>mean_score_time</th>\n",
       "      <th>std_score_time</th>\n",
       "      <th>param_alpha</th>\n",
       "      <th>params</th>\n",
       "      <th>split0_test_score</th>\n",
       "      <th>split1_test_score</th>\n",
       "      <th>split2_test_score</th>\n",
       "      <th>mean_test_score</th>\n",
       "      <th>std_test_score</th>\n",
       "      <th>rank_test_score</th>\n",
       "      <th>split0_train_score</th>\n",
       "      <th>split1_train_score</th>\n",
       "      <th>split2_train_score</th>\n",
       "      <th>mean_train_score</th>\n",
       "      <th>std_train_score</th>\n",
       "    </tr>\n",
       "  </thead>\n",
       "  <tbody>\n",
       "    <tr>\n",
       "      <th>0</th>\n",
       "      <td>181.013951</td>\n",
       "      <td>18.778682</td>\n",
       "      <td>0.333308</td>\n",
       "      <td>0.014729</td>\n",
       "      <td>0.0001</td>\n",
       "      <td>{'alpha': 0.0001}</td>\n",
       "      <td>-0.260811</td>\n",
       "      <td>-0.258323</td>\n",
       "      <td>-0.264056</td>\n",
       "      <td>-0.261063</td>\n",
       "      <td>0.002347</td>\n",
       "      <td>4</td>\n",
       "      <td>-0.235423</td>\n",
       "      <td>-0.233592</td>\n",
       "      <td>-0.245942</td>\n",
       "      <td>-0.238319</td>\n",
       "      <td>0.005442</td>\n",
       "    </tr>\n",
       "    <tr>\n",
       "      <th>1</th>\n",
       "      <td>186.610148</td>\n",
       "      <td>17.761240</td>\n",
       "      <td>0.354147</td>\n",
       "      <td>0.019487</td>\n",
       "      <td>0.001</td>\n",
       "      <td>{'alpha': 0.001}</td>\n",
       "      <td>-0.260810</td>\n",
       "      <td>-0.258322</td>\n",
       "      <td>-0.264055</td>\n",
       "      <td>-0.261063</td>\n",
       "      <td>0.002347</td>\n",
       "      <td>3</td>\n",
       "      <td>-0.235423</td>\n",
       "      <td>-0.233592</td>\n",
       "      <td>-0.245942</td>\n",
       "      <td>-0.238319</td>\n",
       "      <td>0.005442</td>\n",
       "    </tr>\n",
       "    <tr>\n",
       "      <th>2</th>\n",
       "      <td>188.002089</td>\n",
       "      <td>21.670340</td>\n",
       "      <td>0.307272</td>\n",
       "      <td>0.032108</td>\n",
       "      <td>0.01</td>\n",
       "      <td>{'alpha': 0.01}</td>\n",
       "      <td>-0.260801</td>\n",
       "      <td>-0.258312</td>\n",
       "      <td>-0.264052</td>\n",
       "      <td>-0.261055</td>\n",
       "      <td>0.002350</td>\n",
       "      <td>2</td>\n",
       "      <td>-0.235423</td>\n",
       "      <td>-0.233592</td>\n",
       "      <td>-0.245942</td>\n",
       "      <td>-0.238319</td>\n",
       "      <td>0.005442</td>\n",
       "    </tr>\n",
       "    <tr>\n",
       "      <th>3</th>\n",
       "      <td>180.021341</td>\n",
       "      <td>19.099196</td>\n",
       "      <td>0.291649</td>\n",
       "      <td>0.026554</td>\n",
       "      <td>0.1</td>\n",
       "      <td>{'alpha': 0.1}</td>\n",
       "      <td>-0.260716</td>\n",
       "      <td>-0.258209</td>\n",
       "      <td>-0.264016</td>\n",
       "      <td>-0.260980</td>\n",
       "      <td>0.002378</td>\n",
       "      <td>1</td>\n",
       "      <td>-0.235425</td>\n",
       "      <td>-0.233594</td>\n",
       "      <td>-0.245943</td>\n",
       "      <td>-0.238321</td>\n",
       "      <td>0.005441</td>\n",
       "    </tr>\n",
       "    <tr>\n",
       "      <th>4</th>\n",
       "      <td>161.959487</td>\n",
       "      <td>14.089168</td>\n",
       "      <td>0.291646</td>\n",
       "      <td>0.019486</td>\n",
       "      <td>1</td>\n",
       "      <td>{'alpha': 1}</td>\n",
       "      <td>-0.259992</td>\n",
       "      <td>-0.260868</td>\n",
       "      <td>-0.263703</td>\n",
       "      <td>-0.261521</td>\n",
       "      <td>0.001584</td>\n",
       "      <td>5</td>\n",
       "      <td>-0.235535</td>\n",
       "      <td>-0.243376</td>\n",
       "      <td>-0.245986</td>\n",
       "      <td>-0.241632</td>\n",
       "      <td>0.004441</td>\n",
       "    </tr>\n",
       "    <tr>\n",
       "      <th>5</th>\n",
       "      <td>123.590563</td>\n",
       "      <td>5.866725</td>\n",
       "      <td>0.239566</td>\n",
       "      <td>0.026561</td>\n",
       "      <td>10</td>\n",
       "      <td>{'alpha': 10}</td>\n",
       "      <td>-0.268994</td>\n",
       "      <td>-0.262851</td>\n",
       "      <td>-0.265893</td>\n",
       "      <td>-0.265913</td>\n",
       "      <td>0.002508</td>\n",
       "      <td>6</td>\n",
       "      <td>-0.257347</td>\n",
       "      <td>-0.251485</td>\n",
       "      <td>-0.252932</td>\n",
       "      <td>-0.253922</td>\n",
       "      <td>0.002493</td>\n",
       "    </tr>\n",
       "    <tr>\n",
       "      <th>6</th>\n",
       "      <td>66.135091</td>\n",
       "      <td>11.221903</td>\n",
       "      <td>0.218729</td>\n",
       "      <td>0.077593</td>\n",
       "      <td>100</td>\n",
       "      <td>{'alpha': 100}</td>\n",
       "      <td>-0.287785</td>\n",
       "      <td>-0.285709</td>\n",
       "      <td>-0.288125</td>\n",
       "      <td>-0.287206</td>\n",
       "      <td>0.001068</td>\n",
       "      <td>7</td>\n",
       "      <td>-0.283263</td>\n",
       "      <td>-0.284273</td>\n",
       "      <td>-0.283183</td>\n",
       "      <td>-0.283573</td>\n",
       "      <td>0.000496</td>\n",
       "    </tr>\n",
       "  </tbody>\n",
       "</table>\n",
       "</div>"
      ],
      "text/plain": [
       "   mean_fit_time  std_fit_time  mean_score_time  std_score_time param_alpha  \\\n",
       "0     181.013951     18.778682         0.333308        0.014729      0.0001   \n",
       "1     186.610148     17.761240         0.354147        0.019487       0.001   \n",
       "2     188.002089     21.670340         0.307272        0.032108        0.01   \n",
       "3     180.021341     19.099196         0.291649        0.026554         0.1   \n",
       "4     161.959487     14.089168         0.291646        0.019486           1   \n",
       "5     123.590563      5.866725         0.239566        0.026561          10   \n",
       "6      66.135091     11.221903         0.218729        0.077593         100   \n",
       "\n",
       "              params  split0_test_score  split1_test_score  split2_test_score  \\\n",
       "0  {'alpha': 0.0001}          -0.260811          -0.258323          -0.264056   \n",
       "1   {'alpha': 0.001}          -0.260810          -0.258322          -0.264055   \n",
       "2    {'alpha': 0.01}          -0.260801          -0.258312          -0.264052   \n",
       "3     {'alpha': 0.1}          -0.260716          -0.258209          -0.264016   \n",
       "4       {'alpha': 1}          -0.259992          -0.260868          -0.263703   \n",
       "5      {'alpha': 10}          -0.268994          -0.262851          -0.265893   \n",
       "6     {'alpha': 100}          -0.287785          -0.285709          -0.288125   \n",
       "\n",
       "   mean_test_score  std_test_score  rank_test_score  split0_train_score  \\\n",
       "0        -0.261063        0.002347                4           -0.235423   \n",
       "1        -0.261063        0.002347                3           -0.235423   \n",
       "2        -0.261055        0.002350                2           -0.235423   \n",
       "3        -0.260980        0.002378                1           -0.235425   \n",
       "4        -0.261521        0.001584                5           -0.235535   \n",
       "5        -0.265913        0.002508                6           -0.257347   \n",
       "6        -0.287206        0.001068                7           -0.283263   \n",
       "\n",
       "   split1_train_score  split2_train_score  mean_train_score  std_train_score  \n",
       "0           -0.233592           -0.245942         -0.238319         0.005442  \n",
       "1           -0.233592           -0.245942         -0.238319         0.005442  \n",
       "2           -0.233592           -0.245942         -0.238319         0.005442  \n",
       "3           -0.233594           -0.245943         -0.238321         0.005441  \n",
       "4           -0.243376           -0.245986         -0.241632         0.004441  \n",
       "5           -0.251485           -0.252932         -0.253922         0.002493  \n",
       "6           -0.284273           -0.283183         -0.283573         0.000496  "
      ]
     },
     "execution_count": 11,
     "metadata": {},
     "output_type": "execute_result"
    }
   ],
   "source": [
    "results = pd.DataFrame.from_dict(gs_ridge.cv_results_)\n",
    "results"
   ]
  },
  {
   "cell_type": "code",
   "execution_count": 12,
   "metadata": {},
   "outputs": [
    {
     "data": {
      "text/html": [
       "<div>\n",
       "<style scoped>\n",
       "    .dataframe tbody tr th:only-of-type {\n",
       "        vertical-align: middle;\n",
       "    }\n",
       "\n",
       "    .dataframe tbody tr th {\n",
       "        vertical-align: top;\n",
       "    }\n",
       "\n",
       "    .dataframe thead th {\n",
       "        text-align: right;\n",
       "    }\n",
       "</style>\n",
       "<table border=\"1\" class=\"dataframe\">\n",
       "  <thead>\n",
       "    <tr style=\"text-align: right;\">\n",
       "      <th></th>\n",
       "      <th>mean_fit_time</th>\n",
       "      <th>std_fit_time</th>\n",
       "      <th>mean_score_time</th>\n",
       "      <th>std_score_time</th>\n",
       "      <th>param_alpha</th>\n",
       "      <th>params</th>\n",
       "      <th>split0_test_score</th>\n",
       "      <th>split1_test_score</th>\n",
       "      <th>split2_test_score</th>\n",
       "      <th>mean_test_score</th>\n",
       "      <th>std_test_score</th>\n",
       "      <th>rank_test_score</th>\n",
       "      <th>split0_train_score</th>\n",
       "      <th>split1_train_score</th>\n",
       "      <th>split2_train_score</th>\n",
       "      <th>mean_train_score</th>\n",
       "      <th>std_train_score</th>\n",
       "    </tr>\n",
       "  </thead>\n",
       "  <tbody>\n",
       "    <tr>\n",
       "      <th>6</th>\n",
       "      <td>66.135091</td>\n",
       "      <td>11.221903</td>\n",
       "      <td>0.218729</td>\n",
       "      <td>0.077593</td>\n",
       "      <td>100</td>\n",
       "      <td>{'alpha': 100}</td>\n",
       "      <td>-0.287785</td>\n",
       "      <td>-0.285709</td>\n",
       "      <td>-0.288125</td>\n",
       "      <td>-0.287206</td>\n",
       "      <td>0.001068</td>\n",
       "      <td>7</td>\n",
       "      <td>-0.283263</td>\n",
       "      <td>-0.284273</td>\n",
       "      <td>-0.283183</td>\n",
       "      <td>-0.283573</td>\n",
       "      <td>0.000496</td>\n",
       "    </tr>\n",
       "    <tr>\n",
       "      <th>5</th>\n",
       "      <td>123.590563</td>\n",
       "      <td>5.866725</td>\n",
       "      <td>0.239566</td>\n",
       "      <td>0.026561</td>\n",
       "      <td>10</td>\n",
       "      <td>{'alpha': 10}</td>\n",
       "      <td>-0.268994</td>\n",
       "      <td>-0.262851</td>\n",
       "      <td>-0.265893</td>\n",
       "      <td>-0.265913</td>\n",
       "      <td>0.002508</td>\n",
       "      <td>6</td>\n",
       "      <td>-0.257347</td>\n",
       "      <td>-0.251485</td>\n",
       "      <td>-0.252932</td>\n",
       "      <td>-0.253922</td>\n",
       "      <td>0.002493</td>\n",
       "    </tr>\n",
       "    <tr>\n",
       "      <th>4</th>\n",
       "      <td>161.959487</td>\n",
       "      <td>14.089168</td>\n",
       "      <td>0.291646</td>\n",
       "      <td>0.019486</td>\n",
       "      <td>1</td>\n",
       "      <td>{'alpha': 1}</td>\n",
       "      <td>-0.259992</td>\n",
       "      <td>-0.260868</td>\n",
       "      <td>-0.263703</td>\n",
       "      <td>-0.261521</td>\n",
       "      <td>0.001584</td>\n",
       "      <td>5</td>\n",
       "      <td>-0.235535</td>\n",
       "      <td>-0.243376</td>\n",
       "      <td>-0.245986</td>\n",
       "      <td>-0.241632</td>\n",
       "      <td>0.004441</td>\n",
       "    </tr>\n",
       "    <tr>\n",
       "      <th>0</th>\n",
       "      <td>181.013951</td>\n",
       "      <td>18.778682</td>\n",
       "      <td>0.333308</td>\n",
       "      <td>0.014729</td>\n",
       "      <td>0.0001</td>\n",
       "      <td>{'alpha': 0.0001}</td>\n",
       "      <td>-0.260811</td>\n",
       "      <td>-0.258323</td>\n",
       "      <td>-0.264056</td>\n",
       "      <td>-0.261063</td>\n",
       "      <td>0.002347</td>\n",
       "      <td>4</td>\n",
       "      <td>-0.235423</td>\n",
       "      <td>-0.233592</td>\n",
       "      <td>-0.245942</td>\n",
       "      <td>-0.238319</td>\n",
       "      <td>0.005442</td>\n",
       "    </tr>\n",
       "    <tr>\n",
       "      <th>1</th>\n",
       "      <td>186.610148</td>\n",
       "      <td>17.761240</td>\n",
       "      <td>0.354147</td>\n",
       "      <td>0.019487</td>\n",
       "      <td>0.001</td>\n",
       "      <td>{'alpha': 0.001}</td>\n",
       "      <td>-0.260810</td>\n",
       "      <td>-0.258322</td>\n",
       "      <td>-0.264055</td>\n",
       "      <td>-0.261063</td>\n",
       "      <td>0.002347</td>\n",
       "      <td>3</td>\n",
       "      <td>-0.235423</td>\n",
       "      <td>-0.233592</td>\n",
       "      <td>-0.245942</td>\n",
       "      <td>-0.238319</td>\n",
       "      <td>0.005442</td>\n",
       "    </tr>\n",
       "    <tr>\n",
       "      <th>2</th>\n",
       "      <td>188.002089</td>\n",
       "      <td>21.670340</td>\n",
       "      <td>0.307272</td>\n",
       "      <td>0.032108</td>\n",
       "      <td>0.01</td>\n",
       "      <td>{'alpha': 0.01}</td>\n",
       "      <td>-0.260801</td>\n",
       "      <td>-0.258312</td>\n",
       "      <td>-0.264052</td>\n",
       "      <td>-0.261055</td>\n",
       "      <td>0.002350</td>\n",
       "      <td>2</td>\n",
       "      <td>-0.235423</td>\n",
       "      <td>-0.233592</td>\n",
       "      <td>-0.245942</td>\n",
       "      <td>-0.238319</td>\n",
       "      <td>0.005442</td>\n",
       "    </tr>\n",
       "    <tr>\n",
       "      <th>3</th>\n",
       "      <td>180.021341</td>\n",
       "      <td>19.099196</td>\n",
       "      <td>0.291649</td>\n",
       "      <td>0.026554</td>\n",
       "      <td>0.1</td>\n",
       "      <td>{'alpha': 0.1}</td>\n",
       "      <td>-0.260716</td>\n",
       "      <td>-0.258209</td>\n",
       "      <td>-0.264016</td>\n",
       "      <td>-0.260980</td>\n",
       "      <td>0.002378</td>\n",
       "      <td>1</td>\n",
       "      <td>-0.235425</td>\n",
       "      <td>-0.233594</td>\n",
       "      <td>-0.245943</td>\n",
       "      <td>-0.238321</td>\n",
       "      <td>0.005441</td>\n",
       "    </tr>\n",
       "  </tbody>\n",
       "</table>\n",
       "</div>"
      ],
      "text/plain": [
       "   mean_fit_time  std_fit_time  mean_score_time  std_score_time param_alpha  \\\n",
       "6      66.135091     11.221903         0.218729        0.077593         100   \n",
       "5     123.590563      5.866725         0.239566        0.026561          10   \n",
       "4     161.959487     14.089168         0.291646        0.019486           1   \n",
       "0     181.013951     18.778682         0.333308        0.014729      0.0001   \n",
       "1     186.610148     17.761240         0.354147        0.019487       0.001   \n",
       "2     188.002089     21.670340         0.307272        0.032108        0.01   \n",
       "3     180.021341     19.099196         0.291649        0.026554         0.1   \n",
       "\n",
       "              params  split0_test_score  split1_test_score  split2_test_score  \\\n",
       "6     {'alpha': 100}          -0.287785          -0.285709          -0.288125   \n",
       "5      {'alpha': 10}          -0.268994          -0.262851          -0.265893   \n",
       "4       {'alpha': 1}          -0.259992          -0.260868          -0.263703   \n",
       "0  {'alpha': 0.0001}          -0.260811          -0.258323          -0.264056   \n",
       "1   {'alpha': 0.001}          -0.260810          -0.258322          -0.264055   \n",
       "2    {'alpha': 0.01}          -0.260801          -0.258312          -0.264052   \n",
       "3     {'alpha': 0.1}          -0.260716          -0.258209          -0.264016   \n",
       "\n",
       "   mean_test_score  std_test_score  rank_test_score  split0_train_score  \\\n",
       "6        -0.287206        0.001068                7           -0.283263   \n",
       "5        -0.265913        0.002508                6           -0.257347   \n",
       "4        -0.261521        0.001584                5           -0.235535   \n",
       "0        -0.261063        0.002347                4           -0.235423   \n",
       "1        -0.261063        0.002347                3           -0.235423   \n",
       "2        -0.261055        0.002350                2           -0.235423   \n",
       "3        -0.260980        0.002378                1           -0.235425   \n",
       "\n",
       "   split1_train_score  split2_train_score  mean_train_score  std_train_score  \n",
       "6           -0.284273           -0.283183         -0.283573         0.000496  \n",
       "5           -0.251485           -0.252932         -0.253922         0.002493  \n",
       "4           -0.243376           -0.245986         -0.241632         0.004441  \n",
       "0           -0.233592           -0.245942         -0.238319         0.005442  \n",
       "1           -0.233592           -0.245942         -0.238319         0.005442  \n",
       "2           -0.233592           -0.245942         -0.238319         0.005442  \n",
       "3           -0.233594           -0.245943         -0.238321         0.005441  "
      ]
     },
     "execution_count": 12,
     "metadata": {},
     "output_type": "execute_result"
    }
   ],
   "source": [
    "results.sort_values(['mean_test_score'])"
   ]
  },
  {
   "cell_type": "code",
   "execution_count": 13,
   "metadata": {},
   "outputs": [
    {
     "data": {
      "image/png": "[encoded data removed]",
      "text/plain": [
       "<Figure size 432x288 with 1 Axes>"
      ]
     },
     "metadata": {
      "needs_background": "light"
     },
     "output_type": "display_data"
    }
   ],
   "source": [
    "# plotting the results\n",
    "\n",
    "train_score = results['mean_train_score']*-1\n",
    "cv_score = results['mean_test_score'] *-1\n",
    "\n",
    "plt.plot(np.log10(list(results['param_alpha'].values)), train_score, label='Train Score')\n",
    "plt.plot(np.log10(list(results['param_alpha'].values)), cv_score, label='CV Score')\n",
    "plt.legend()\n",
    "plt.xlabel(\"Log(alpha) : hyperparameter\")\n",
    "plt.ylabel(\"Score\")\n",
    "plt.title(\"Log(Hyper parameter) Vs Score plot\")\n",
    "plt.grid()\n",
    "plt.show()"
   ]
  },
  {
   "cell_type": "code",
   "execution_count": 14,
   "metadata": {},
   "outputs": [
    {
     "name": "stdout",
     "output_type": "stream",
     "text": [
      "Best Estimator  Ridge(alpha=0.1, copy_X=True, fit_intercept=False, max_iter=None,\n",
      "      normalize=False, random_state=None, solver='lsqr', tol=0.001)\n"
     ]
    }
   ],
   "source": [
    "print(\"Best Estimator \",gs_ridge.best_estimator_)"
   ]
  },
  {
   "cell_type": "markdown",
   "metadata": {},
   "source": [
    "__For alpha=0.1, cross validationn score is lowest, and closest to Train score. Hence, we train the model with this hyperparameter.__"
   ]
  },
  {
   "cell_type": "code",
   "execution_count": 15,
   "metadata": {},
   "outputs": [
    {
     "name": "stdout",
     "output_type": "stream",
     "text": [
      "Wall time: 57.7 s\n"
     ]
    },
    {
     "data": {
      "text/plain": [
       "Ridge(alpha=0.1, copy_X=True, fit_intercept=False, max_iter=None,\n",
       "      normalize=False, random_state=None, solver='lsqr', tol=0.001)"
      ]
     },
     "execution_count": 15,
     "metadata": {},
     "output_type": "execute_result"
    }
   ],
   "source": [
    "%%time\n",
    "\n",
    "ridge_model = Ridge(solver = \"lsqr\", fit_intercept=False,alpha = 0.1)\n",
    "# ridge_model.fit(x_train, y_train)\n",
    "ridge_model.fit(x_train, y_log_train)"
   ]
  },
  {
   "cell_type": "code",
   "execution_count": 16,
   "metadata": {},
   "outputs": [],
   "source": [
    "pickle.dump(ridge_model, open('./models/ridge_model', 'wb'))"
   ]
  },
  {
   "cell_type": "markdown",
   "metadata": {},
   "source": [
    "__Evaluations__"
   ]
  },
  {
   "cell_type": "code",
   "execution_count": 17,
   "metadata": {},
   "outputs": [],
   "source": [
    "ridge_model = pickle.load(open('./models/ridge_model', 'rb'))"
   ]
  },
  {
   "cell_type": "code",
   "execution_count": 18,
   "metadata": {},
   "outputs": [
    {
     "name": "stdout",
     "output_type": "stream",
     "text": [
      "Train RMSLE =  0.5053840510113513\n",
      "Test RMSLE =  0.5225105665803988\n"
     ]
    }
   ],
   "source": [
    "print('Train RMSLE = ',rmsle_score(np.float64(y_train) , np.expm1(ridge_model.predict(x_train))))\n",
    "print('Test RMSLE = ',rmsle_score(np.float64(y_test) , np.expm1(ridge_model.predict(x_test))))"
   ]
  }
 ],
 "metadata": {
  "kernelspec": {
   "display_name": "Python 3",
   "language": "python",
   "name": "python3"
  },
  "language_info": {
   "codemirror_mode": {
    "name": "ipython",
    "version": 3
   },
   "file_extension": ".py",
   "mimetype": "text/x-python",
   "name": "python",
   "nbconvert_exporter": "python",
   "pygments_lexer": "ipython3",
   "version": "3.7.5"
  }
 },
 "nbformat": 4,
 "nbformat_minor": 2
}

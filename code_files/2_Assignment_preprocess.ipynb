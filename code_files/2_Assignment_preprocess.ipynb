{
 "cells": [
  {
   "cell_type": "code",
   "execution_count": 1,
   "metadata": {},
   "outputs": [],
   "source": [
    "# import libraries\n",
    "import warnings\n",
    "warnings.filterwarnings(\"ignore\")\n",
    "import pandas as pd\n",
    "import re\n",
    "import numpy as np\n",
    "from tqdm import tqdm\n",
    "from sklearn.feature_extraction.text import CountVectorizer, TfidfVectorizer\n",
    "from sklearn.preprocessing import OneHotEncoder, StandardScaler, LabelBinarizer\n",
    "from sklearn.model_selection import train_test_split\n",
    "from scipy.sparse import hstack\n",
    "\n",
    "import pickle\n",
    "from nltk.sentiment.vader import SentimentIntensityAnalyzer"
   ]
  },
  {
   "cell_type": "code",
   "execution_count": 2,
   "metadata": {},
   "outputs": [
    {
     "name": "stdout",
     "output_type": "stream",
     "text": [
      "(1482531, 14)\n"
     ]
    },
    {
     "data": {
      "text/html": [
       "<div>\n",
       "<style scoped>\n",
       "    .dataframe tbody tr th:only-of-type {\n",
       "        vertical-align: middle;\n",
       "    }\n",
       "\n",
       "    .dataframe tbody tr th {\n",
       "        vertical-align: top;\n",
       "    }\n",
       "\n",
       "    .dataframe thead th {\n",
       "        text-align: right;\n",
       "    }\n",
       "</style>\n",
       "<table border=\"1\" class=\"dataframe\">\n",
       "  <thead>\n",
       "    <tr style=\"text-align: right;\">\n",
       "      <th></th>\n",
       "      <th>train_id</th>\n",
       "      <th>name</th>\n",
       "      <th>item_condition_id</th>\n",
       "      <th>brand_name</th>\n",
       "      <th>price</th>\n",
       "      <th>shipping</th>\n",
       "      <th>item_description</th>\n",
       "      <th>price_log</th>\n",
       "      <th>category1</th>\n",
       "      <th>category2</th>\n",
       "      <th>category3</th>\n",
       "      <th>category4</th>\n",
       "      <th>category5</th>\n",
       "      <th>branded</th>\n",
       "    </tr>\n",
       "  </thead>\n",
       "  <tbody>\n",
       "    <tr>\n",
       "      <th>0</th>\n",
       "      <td>0</td>\n",
       "      <td>MLB Cincinnati Reds T Shirt Size XL</td>\n",
       "      <td>3</td>\n",
       "      <td>missing</td>\n",
       "      <td>10.0</td>\n",
       "      <td>1</td>\n",
       "      <td>No description yet</td>\n",
       "      <td>2.397895</td>\n",
       "      <td>Men</td>\n",
       "      <td>Tops</td>\n",
       "      <td>T-shirts</td>\n",
       "      <td>No category</td>\n",
       "      <td>No category</td>\n",
       "      <td>0</td>\n",
       "    </tr>\n",
       "    <tr>\n",
       "      <th>1</th>\n",
       "      <td>1</td>\n",
       "      <td>Razer BlackWidow Chroma Keyboard</td>\n",
       "      <td>3</td>\n",
       "      <td>Razer</td>\n",
       "      <td>52.0</td>\n",
       "      <td>0</td>\n",
       "      <td>This keyboard is in great condition and works ...</td>\n",
       "      <td>3.970292</td>\n",
       "      <td>Electronics</td>\n",
       "      <td>Computers &amp; Tablets</td>\n",
       "      <td>Components &amp; Parts</td>\n",
       "      <td>No category</td>\n",
       "      <td>No category</td>\n",
       "      <td>1</td>\n",
       "    </tr>\n",
       "    <tr>\n",
       "      <th>2</th>\n",
       "      <td>2</td>\n",
       "      <td>AVA-VIV Blouse</td>\n",
       "      <td>1</td>\n",
       "      <td>Target</td>\n",
       "      <td>10.0</td>\n",
       "      <td>1</td>\n",
       "      <td>Adorable top with a hint of lace and a key hol...</td>\n",
       "      <td>2.397895</td>\n",
       "      <td>Women</td>\n",
       "      <td>Tops &amp; Blouses</td>\n",
       "      <td>Blouse</td>\n",
       "      <td>No category</td>\n",
       "      <td>No category</td>\n",
       "      <td>1</td>\n",
       "    </tr>\n",
       "    <tr>\n",
       "      <th>3</th>\n",
       "      <td>3</td>\n",
       "      <td>Leather Horse Statues</td>\n",
       "      <td>1</td>\n",
       "      <td>missing</td>\n",
       "      <td>35.0</td>\n",
       "      <td>1</td>\n",
       "      <td>New with tags. Leather horses. Retail for [rm]...</td>\n",
       "      <td>3.583519</td>\n",
       "      <td>Home</td>\n",
       "      <td>Home Décor</td>\n",
       "      <td>Home Décor Accents</td>\n",
       "      <td>No category</td>\n",
       "      <td>No category</td>\n",
       "      <td>0</td>\n",
       "    </tr>\n",
       "    <tr>\n",
       "      <th>4</th>\n",
       "      <td>4</td>\n",
       "      <td>24K GOLD plated rose</td>\n",
       "      <td>1</td>\n",
       "      <td>missing</td>\n",
       "      <td>44.0</td>\n",
       "      <td>0</td>\n",
       "      <td>Complete with certificate of authenticity</td>\n",
       "      <td>3.806662</td>\n",
       "      <td>Women</td>\n",
       "      <td>Jewelry</td>\n",
       "      <td>Necklaces</td>\n",
       "      <td>No category</td>\n",
       "      <td>No category</td>\n",
       "      <td>0</td>\n",
       "    </tr>\n",
       "  </tbody>\n",
       "</table>\n",
       "</div>"
      ],
      "text/plain": [
       "   train_id                                 name  item_condition_id  \\\n",
       "0         0  MLB Cincinnati Reds T Shirt Size XL                  3   \n",
       "1         1     Razer BlackWidow Chroma Keyboard                  3   \n",
       "2         2                       AVA-VIV Blouse                  1   \n",
       "3         3                Leather Horse Statues                  1   \n",
       "4         4                 24K GOLD plated rose                  1   \n",
       "\n",
       "  brand_name  price  shipping  \\\n",
       "0    missing   10.0         1   \n",
       "1      Razer   52.0         0   \n",
       "2     Target   10.0         1   \n",
       "3    missing   35.0         1   \n",
       "4    missing   44.0         0   \n",
       "\n",
       "                                    item_description  price_log    category1  \\\n",
       "0                                 No description yet   2.397895          Men   \n",
       "1  This keyboard is in great condition and works ...   3.970292  Electronics   \n",
       "2  Adorable top with a hint of lace and a key hol...   2.397895        Women   \n",
       "3  New with tags. Leather horses. Retail for [rm]...   3.583519         Home   \n",
       "4          Complete with certificate of authenticity   3.806662        Women   \n",
       "\n",
       "             category2           category3    category4    category5  branded  \n",
       "0                 Tops            T-shirts  No category  No category        0  \n",
       "1  Computers & Tablets  Components & Parts  No category  No category        1  \n",
       "2       Tops & Blouses              Blouse  No category  No category        1  \n",
       "3           Home Décor  Home Décor Accents  No category  No category        0  \n",
       "4              Jewelry           Necklaces  No category  No category        0  "
      ]
     },
     "execution_count": 2,
     "metadata": {},
     "output_type": "execute_result"
    }
   ],
   "source": [
    "# load the dataset\n",
    "df_train = pd.read_csv('df_eda.csv')\n",
    "print(df_train.shape)\n",
    "df_train.head()"
   ]
  },
  {
   "cell_type": "code",
   "execution_count": 3,
   "metadata": {},
   "outputs": [
    {
     "data": {
      "text/plain": [
       "0.0"
      ]
     },
     "execution_count": 3,
     "metadata": {},
     "output_type": "execute_result"
    }
   ],
   "source": [
    "min(df_train['price'].values)"
   ]
  },
  {
   "cell_type": "markdown",
   "metadata": {},
   "source": [
    "### Getting brand names of missing brand from Product names"
   ]
  },
  {
   "cell_type": "code",
   "execution_count": 4,
   "metadata": {},
   "outputs": [
    {
     "name": "stdout",
     "output_type": "stream",
     "text": [
      "4809\n",
      "632679\n"
     ]
    }
   ],
   "source": [
    "# unique brand names\n",
    "unique_brand = set(df_train.loc[df_train['brand_name']!=\"missing\", 'brand_name'].values)\n",
    "print(len(unique_brand))\n",
    "missing_brand = len(df_train.loc[df_train['brand_name']==\"missing\"])\n",
    "print(missing_brand)"
   ]
  },
  {
   "cell_type": "code",
   "execution_count": 5,
   "metadata": {},
   "outputs": [],
   "source": [
    "#https://www.kaggle.com/valkling/mercari-rnn-2ridge-models-with-notes-0-42755\n",
    "def brandfinder(line):\n",
    "    brand = line[0]\n",
    "    name = line[1]\n",
    "    namesplit = name.split(' ')\n",
    "    if brand == 'missing':\n",
    "        for x in namesplit:\n",
    "            if x in unique_brand:\n",
    "                return name\n",
    "    if name in unique_brand:\n",
    "        return name\n",
    "    return brand"
   ]
  },
  {
   "cell_type": "code",
   "execution_count": 6,
   "metadata": {},
   "outputs": [
    {
     "name": "stderr",
     "output_type": "stream",
     "text": [
      "100%|█████████████████████████████| 1482531/1482531 [01:08<00:00, 21704.83it/s]\n"
     ]
    },
    {
     "name": "stdout",
     "output_type": "stream",
     "text": [
      "128886\n"
     ]
    }
   ],
   "source": [
    "#https://stackoverflow.com/questions/18603270/progress-indicator-during-pandas-operations\n",
    "\n",
    "tqdm.pandas()\n",
    "df_train['brand_name'] = df_train[['brand_name','name']].progress_apply(brandfinder, axis = 1)\n",
    "# test_df['brand_name'] = test_df[['brand_name','name']].apply(brandfinder, axis = 1)\n",
    "print(missing_brand-len(df_train.loc[df_train['brand_name'] == 'missing']))"
   ]
  },
  {
   "cell_type": "markdown",
   "metadata": {},
   "source": [
    "### Text Preprocessing and Transformation"
   ]
  },
  {
   "cell_type": "code",
   "execution_count": 7,
   "metadata": {},
   "outputs": [],
   "source": [
    "def decontracted(phrase):\n",
    "    # specific\n",
    "    phrase = re.sub(r\"won't\", \"will not\", phrase)\n",
    "    phrase = re.sub(r\"can\\'t\", \"can not\", phrase)\n",
    "\n",
    "    # general\n",
    "    phrase = re.sub(r\"n\\'t\", \" not\", phrase)\n",
    "    phrase = re.sub(r\"\\'re\", \" are\", phrase)\n",
    "    phrase = re.sub(r\"\\'s\", \" is\", phrase)\n",
    "    phrase = re.sub(r\"\\'d\", \" would\", phrase)\n",
    "    phrase = re.sub(r\"\\'ll\", \" will\", phrase)\n",
    "    phrase = re.sub(r\"\\'t\", \" not\", phrase)\n",
    "    phrase = re.sub(r\"\\'ve\", \" have\", phrase)\n",
    "    phrase = re.sub(r\"\\'m\", \" am\", phrase)\n",
    "    return phrase\n",
    "\n",
    "# https://gist.github.com/sebleier/554280\n",
    "# we are removing the words from the stop words list: 'no', 'nor', 'not'\n",
    "stopwords= ['i', 'me', 'my', 'myself', 'we', 'our', 'ours', 'ourselves', 'you', \"you're\", \"you've\",\\\n",
    "            \"you'll\", \"you'd\", 'your', 'yours', 'yourself', 'yourselves', 'he', 'him', 'his', 'himself', \\\n",
    "            'she', \"she's\", 'her', 'hers', 'herself', 'it', \"it's\", 'its', 'itself', 'they', 'them', 'their',\\\n",
    "            'theirs', 'themselves', 'what', 'which', 'who', 'whom', 'this', 'that', \"that'll\", 'these', 'those', \\\n",
    "            'am', 'is', 'are', 'was', 'were', 'be', 'been', 'being', 'have', 'has', 'had', 'having', 'do', 'does', \\\n",
    "            'did', 'doing', 'a', 'an', 'the', 'and', 'but', 'if', 'or', 'because', 'as', 'until', 'while', 'of', \\\n",
    "            'at', 'by', 'for', 'with', 'about', 'against', 'between', 'into', 'through', 'during', 'before', 'after',\\\n",
    "            'above', 'below', 'to', 'from', 'up', 'down', 'in', 'out', 'on', 'off', 'over', 'under', 'again', 'further',\\\n",
    "            'then', 'once', 'here', 'there', 'when', 'where', 'why', 'how', 'all', 'any', 'both', 'each', 'few', 'more',\\\n",
    "            'most', 'other', 'some', 'such', 'only', 'own', 'same', 'so', 'than', 'too', 'very', \\\n",
    "            's', 't', 'can', 'will', 'just', 'don', \"don't\", 'should', \"should've\", 'now', 'd', 'll', 'm', 'o', 're', \\\n",
    "            've', 'y', 'ain', 'aren', \"aren't\", 'couldn', \"couldn't\", 'didn', \"didn't\", 'doesn', \"doesn't\", 'hadn',\\\n",
    "            \"hadn't\", 'hasn', \"hasn't\", 'haven', \"haven't\", 'isn', \"isn't\", 'ma', 'mightn', \"mightn't\", 'mustn',\\\n",
    "            \"mustn't\", 'needn', \"needn't\", 'shan', \"shan't\", 'shouldn', \"shouldn't\", 'wasn', \"wasn't\", 'weren', \"weren't\", \\\n",
    "            'won', \"won't\", 'wouldn', \"wouldn't\"]\n",
    "\n",
    "def text_preprocess(data):\n",
    "    preprocessed = []\n",
    "\n",
    "    for sentence in tqdm(data):\n",
    "        sent = decontracted(sentence)\n",
    "        sent = sent.replace('\\\\r', ' ')\n",
    "        sent = sent.replace('\\\\\"', ' ')\n",
    "        sent = sent.replace('\\\\n', ' ')\n",
    "        sent = re.sub('[^A-Za-z0-9]+', ' ', sent)\n",
    "\n",
    "        sent = ' '.join(e for e in sent.split() if e not in stopwords)\n",
    "        preprocessed.append(sent.lower().strip())\n",
    "    return preprocessed"
   ]
  },
  {
   "cell_type": "code",
   "execution_count": 8,
   "metadata": {},
   "outputs": [],
   "source": [
    "# 'No description yet' needs to be replaced, as the word 'No' may bias for negative sentiment\n",
    "\n",
    "#https://pandas.pydata.org/pandas-docs/stable/reference/api/pandas.DataFrame.replace.html\n",
    "df_train['name'].replace([np.nan], '', inplace=True)\n",
    "df_train['item_description'].replace([np.nan,'No description yet'], '', inplace=True)"
   ]
  },
  {
   "cell_type": "code",
   "execution_count": 9,
   "metadata": {},
   "outputs": [
    {
     "name": "stderr",
     "output_type": "stream",
     "text": [
      "100%|█████████████████████████████| 1482531/1482531 [01:02<00:00, 23805.45it/s]\n",
      "100%|██████████████████████████████| 1482531/1482531 [03:26<00:00, 7165.41it/s]\n"
     ]
    },
    {
     "data": {
      "text/html": [
       "<div>\n",
       "<style scoped>\n",
       "    .dataframe tbody tr th:only-of-type {\n",
       "        vertical-align: middle;\n",
       "    }\n",
       "\n",
       "    .dataframe tbody tr th {\n",
       "        vertical-align: top;\n",
       "    }\n",
       "\n",
       "    .dataframe thead th {\n",
       "        text-align: right;\n",
       "    }\n",
       "</style>\n",
       "<table border=\"1\" class=\"dataframe\">\n",
       "  <thead>\n",
       "    <tr style=\"text-align: right;\">\n",
       "      <th></th>\n",
       "      <th>train_id</th>\n",
       "      <th>name</th>\n",
       "      <th>item_condition_id</th>\n",
       "      <th>brand_name</th>\n",
       "      <th>price</th>\n",
       "      <th>shipping</th>\n",
       "      <th>item_description</th>\n",
       "      <th>price_log</th>\n",
       "      <th>category1</th>\n",
       "      <th>category2</th>\n",
       "      <th>category3</th>\n",
       "      <th>category4</th>\n",
       "      <th>category5</th>\n",
       "      <th>branded</th>\n",
       "      <th>name_preprocess</th>\n",
       "      <th>desc_preprocess</th>\n",
       "    </tr>\n",
       "  </thead>\n",
       "  <tbody>\n",
       "    <tr>\n",
       "      <th>0</th>\n",
       "      <td>0</td>\n",
       "      <td>MLB Cincinnati Reds T Shirt Size XL</td>\n",
       "      <td>3</td>\n",
       "      <td>MLB Cincinnati Reds T Shirt Size XL</td>\n",
       "      <td>10.0</td>\n",
       "      <td>1</td>\n",
       "      <td></td>\n",
       "      <td>2.397895</td>\n",
       "      <td>Men</td>\n",
       "      <td>Tops</td>\n",
       "      <td>T-shirts</td>\n",
       "      <td>No category</td>\n",
       "      <td>No category</td>\n",
       "      <td>0</td>\n",
       "      <td>mlb cincinnati reds t shirt size xl</td>\n",
       "      <td></td>\n",
       "    </tr>\n",
       "    <tr>\n",
       "      <th>1</th>\n",
       "      <td>1</td>\n",
       "      <td>Razer BlackWidow Chroma Keyboard</td>\n",
       "      <td>3</td>\n",
       "      <td>Razer</td>\n",
       "      <td>52.0</td>\n",
       "      <td>0</td>\n",
       "      <td>This keyboard is in great condition and works ...</td>\n",
       "      <td>3.970292</td>\n",
       "      <td>Electronics</td>\n",
       "      <td>Computers &amp; Tablets</td>\n",
       "      <td>Components &amp; Parts</td>\n",
       "      <td>No category</td>\n",
       "      <td>No category</td>\n",
       "      <td>1</td>\n",
       "      <td>razer blackwidow chroma keyboard</td>\n",
       "      <td>this keyboard great condition works like came ...</td>\n",
       "    </tr>\n",
       "    <tr>\n",
       "      <th>2</th>\n",
       "      <td>2</td>\n",
       "      <td>AVA-VIV Blouse</td>\n",
       "      <td>1</td>\n",
       "      <td>Target</td>\n",
       "      <td>10.0</td>\n",
       "      <td>1</td>\n",
       "      <td>Adorable top with a hint of lace and a key hol...</td>\n",
       "      <td>2.397895</td>\n",
       "      <td>Women</td>\n",
       "      <td>Tops &amp; Blouses</td>\n",
       "      <td>Blouse</td>\n",
       "      <td>No category</td>\n",
       "      <td>No category</td>\n",
       "      <td>1</td>\n",
       "      <td>ava viv blouse</td>\n",
       "      <td>adorable top hint lace key hole back the pale ...</td>\n",
       "    </tr>\n",
       "    <tr>\n",
       "      <th>3</th>\n",
       "      <td>3</td>\n",
       "      <td>Leather Horse Statues</td>\n",
       "      <td>1</td>\n",
       "      <td>missing</td>\n",
       "      <td>35.0</td>\n",
       "      <td>1</td>\n",
       "      <td>New with tags. Leather horses. Retail for [rm]...</td>\n",
       "      <td>3.583519</td>\n",
       "      <td>Home</td>\n",
       "      <td>Home Décor</td>\n",
       "      <td>Home Décor Accents</td>\n",
       "      <td>No category</td>\n",
       "      <td>No category</td>\n",
       "      <td>0</td>\n",
       "      <td>leather horse statues</td>\n",
       "      <td>new tags leather horses retail rm stand foot h...</td>\n",
       "    </tr>\n",
       "    <tr>\n",
       "      <th>4</th>\n",
       "      <td>4</td>\n",
       "      <td>24K GOLD plated rose</td>\n",
       "      <td>1</td>\n",
       "      <td>missing</td>\n",
       "      <td>44.0</td>\n",
       "      <td>0</td>\n",
       "      <td>Complete with certificate of authenticity</td>\n",
       "      <td>3.806662</td>\n",
       "      <td>Women</td>\n",
       "      <td>Jewelry</td>\n",
       "      <td>Necklaces</td>\n",
       "      <td>No category</td>\n",
       "      <td>No category</td>\n",
       "      <td>0</td>\n",
       "      <td>24k gold plated rose</td>\n",
       "      <td>complete certificate authenticity</td>\n",
       "    </tr>\n",
       "  </tbody>\n",
       "</table>\n",
       "</div>"
      ],
      "text/plain": [
       "   train_id                                 name  item_condition_id  \\\n",
       "0         0  MLB Cincinnati Reds T Shirt Size XL                  3   \n",
       "1         1     Razer BlackWidow Chroma Keyboard                  3   \n",
       "2         2                       AVA-VIV Blouse                  1   \n",
       "3         3                Leather Horse Statues                  1   \n",
       "4         4                 24K GOLD plated rose                  1   \n",
       "\n",
       "                            brand_name  price  shipping  \\\n",
       "0  MLB Cincinnati Reds T Shirt Size XL   10.0         1   \n",
       "1                                Razer   52.0         0   \n",
       "2                               Target   10.0         1   \n",
       "3                              missing   35.0         1   \n",
       "4                              missing   44.0         0   \n",
       "\n",
       "                                    item_description  price_log    category1  \\\n",
       "0                                                      2.397895          Men   \n",
       "1  This keyboard is in great condition and works ...   3.970292  Electronics   \n",
       "2  Adorable top with a hint of lace and a key hol...   2.397895        Women   \n",
       "3  New with tags. Leather horses. Retail for [rm]...   3.583519         Home   \n",
       "4          Complete with certificate of authenticity   3.806662        Women   \n",
       "\n",
       "             category2           category3    category4    category5  branded  \\\n",
       "0                 Tops            T-shirts  No category  No category        0   \n",
       "1  Computers & Tablets  Components & Parts  No category  No category        1   \n",
       "2       Tops & Blouses              Blouse  No category  No category        1   \n",
       "3           Home Décor  Home Décor Accents  No category  No category        0   \n",
       "4              Jewelry           Necklaces  No category  No category        0   \n",
       "\n",
       "                       name_preprocess  \\\n",
       "0  mlb cincinnati reds t shirt size xl   \n",
       "1     razer blackwidow chroma keyboard   \n",
       "2                       ava viv blouse   \n",
       "3                leather horse statues   \n",
       "4                 24k gold plated rose   \n",
       "\n",
       "                                     desc_preprocess  \n",
       "0                                                     \n",
       "1  this keyboard great condition works like came ...  \n",
       "2  adorable top hint lace key hole back the pale ...  \n",
       "3  new tags leather horses retail rm stand foot h...  \n",
       "4                  complete certificate authenticity  "
      ]
     },
     "execution_count": 9,
     "metadata": {},
     "output_type": "execute_result"
    }
   ],
   "source": [
    "df_train['name_preprocess'] = text_preprocess(df_train['name'])\n",
    "df_train['desc_preprocess'] = text_preprocess(df_train['item_description'])\n",
    "df_train.head()"
   ]
  },
  {
   "cell_type": "markdown",
   "metadata": {},
   "source": [
    "__Split data into Train and Test__"
   ]
  },
  {
   "cell_type": "code",
   "execution_count": 10,
   "metadata": {},
   "outputs": [
    {
     "name": "stdout",
     "output_type": "stream",
     "text": [
      "(993295, 16)\n",
      "(489236, 16)\n"
     ]
    }
   ],
   "source": [
    "train, test = train_test_split(df_train, test_size=0.33, random_state=0)\n",
    "print(train.shape)\n",
    "print(test.shape)"
   ]
  },
  {
   "cell_type": "code",
   "execution_count": 11,
   "metadata": {},
   "outputs": [
    {
     "name": "stdout",
     "output_type": "stream",
     "text": [
      "(993295,)\n",
      "(489236,)\n"
     ]
    }
   ],
   "source": [
    "y_train = train['price'].values\n",
    "y_test = test['price'].values\n",
    "print(y_train.shape)\n",
    "print(y_test.shape)"
   ]
  },
  {
   "cell_type": "code",
   "execution_count": 12,
   "metadata": {},
   "outputs": [
    {
     "name": "stdout",
     "output_type": "stream",
     "text": [
      "(993295,)\n",
      "(489236,)\n"
     ]
    }
   ],
   "source": [
    "y_log_train = train['price_log'].values\n",
    "y_log_test = test['price_log'].values\n",
    "print(y_log_train.shape)\n",
    "print(y_log_test.shape)"
   ]
  },
  {
   "cell_type": "code",
   "execution_count": 13,
   "metadata": {},
   "outputs": [],
   "source": [
    "file = open('./preprocess_outputs/y_train', 'wb')\n",
    "pickle.dump(y_train, file)\n",
    "file.close()\n",
    "\n",
    "file = open('./preprocess_outputs/y_test', 'wb')\n",
    "pickle.dump(y_test, file)\n",
    "file.close()\n",
    "\n",
    "file = open('./preprocess_outputs/y_log_train', 'wb')\n",
    "pickle.dump(y_log_train, file)\n",
    "file.close()\n",
    "\n",
    "file = open('./preprocess_outputs/y_log_test', 'wb')\n",
    "pickle.dump(y_log_test, file)\n",
    "file.close()"
   ]
  },
  {
   "cell_type": "code",
   "execution_count": 14,
   "metadata": {},
   "outputs": [],
   "source": [
    "train.to_csv('./preprocess_outputs/train_preprocess.csv', index=False)\n",
    "test.to_csv('./preprocess_outputs/test_preprocess.csv', index=False)"
   ]
  },
  {
   "cell_type": "code",
   "execution_count": 15,
   "metadata": {},
   "outputs": [],
   "source": [
    "# train = pd.read_csv('./preprocess_outputs/train_preprocess.csv')\n",
    "# test = pd.read_csv('./preprocess_outputs/test_preprocess.csv')\n",
    "# print(train.shape)\n",
    "# print(test.shape)"
   ]
  },
  {
   "cell_type": "markdown",
   "metadata": {},
   "source": [
    "### Encoding brand_name"
   ]
  },
  {
   "cell_type": "code",
   "execution_count": 16,
   "metadata": {},
   "outputs": [
    {
     "name": "stdout",
     "output_type": "stream",
     "text": [
      "2020-09-15 23:55:07.204704\n"
     ]
    }
   ],
   "source": [
    "from datetime import datetime\n",
    "print(datetime.now())"
   ]
  },
  {
   "cell_type": "code",
   "execution_count": 17,
   "metadata": {},
   "outputs": [
    {
     "name": "stdout",
     "output_type": "stream",
     "text": [
      "(993295, 82230)\n",
      "(489236, 82230)\n",
      "Wall time: 58min 39s\n"
     ]
    }
   ],
   "source": [
    "%%time\n",
    "\n",
    "encode = LabelBinarizer(sparse_output=True)\n",
    "train_brand_encode = encode.fit_transform(train['brand_name'].astype('category'))\n",
    "test_brand_encode = encode.transform(test['brand_name'].astype('category'))\n",
    "print(train_brand_encode.shape)\n",
    "print(test_brand_encode.shape)"
   ]
  },
  {
   "cell_type": "code",
   "execution_count": 18,
   "metadata": {},
   "outputs": [
    {
     "name": "stdout",
     "output_type": "stream",
     "text": [
      "2020-09-16 00:53:46.833304\n"
     ]
    }
   ],
   "source": [
    "print(datetime.now())"
   ]
  },
  {
   "cell_type": "code",
   "execution_count": 19,
   "metadata": {},
   "outputs": [],
   "source": [
    "# %%time\n",
    "\n",
    "# encode = LabelBinarizer(sparse_output=True)\n",
    "# train_brand_encode = encode.fit_transform(train['brand_name'].astype('category'))\n",
    "# test_brand_encode = encode.transform(test['brand_name'].astype('category'))\n",
    "# print(train_brand_encode.shape)\n",
    "# print(test_brand_encode.shape) # (, 118701)\n",
    "\n",
    "## Wall time: 1h 9min 38s"
   ]
  },
  {
   "cell_type": "code",
   "execution_count": 20,
   "metadata": {},
   "outputs": [],
   "source": [
    "file = open('./preprocess_outputs/train_brand_encode', 'wb')\n",
    "pickle.dump(train_brand_encode, file)\n",
    "file.close()\n",
    "\n",
    "file = open('./preprocess_outputs/test_brand_encode', 'wb')\n",
    "pickle.dump(test_brand_encode, file)\n",
    "file.close()"
   ]
  },
  {
   "cell_type": "markdown",
   "metadata": {},
   "source": [
    "## Encoding shipping, item_condition, branded"
   ]
  },
  {
   "cell_type": "code",
   "execution_count": 21,
   "metadata": {},
   "outputs": [],
   "source": [
    "# Converting text data to vectors\n",
    "\n",
    "def ohe(train_data, test_data):\n",
    "    ohe = OneHotEncoder(sparse=False)\n",
    "    ohe.fit(train_data)\n",
    "    \n",
    "    ohe_train = ohe.transform(train_data)\n",
    "    ohe_test = ohe.transform(test_data)\n",
    "    \n",
    "    return ohe_train, ohe_test"
   ]
  },
  {
   "cell_type": "code",
   "execution_count": 22,
   "metadata": {},
   "outputs": [
    {
     "name": "stdout",
     "output_type": "stream",
     "text": [
      "(993295, 2) (489236, 2)\n",
      "(993295, 5) (489236, 5)\n",
      "(993295, 2) (489236, 2)\n"
     ]
    }
   ],
   "source": [
    "train_shipping_ohe, test_shipping_ohe = ohe(train['shipping'].values.reshape(-1,1), test['shipping'].values.reshape(-1,1))\n",
    "train_item_cond_ohe, test_item_cond_ohe = ohe(train['item_condition_id'].values.reshape(-1,1), test['item_condition_id'].values.reshape(-1,1))\n",
    "train_branded_ohe, test_branded_ohe = ohe(train['branded'].values.reshape(-1,1), test['branded'].values.reshape(-1,1))\n",
    "\n",
    "print(train_shipping_ohe.shape, test_shipping_ohe.shape)\n",
    "print(train_item_cond_ohe.shape, test_item_cond_ohe.shape)\n",
    "print(train_branded_ohe.shape, test_branded_ohe.shape)"
   ]
  },
  {
   "cell_type": "code",
   "execution_count": 23,
   "metadata": {},
   "outputs": [],
   "source": [
    "file = open('./preprocess_outputs/train_shipping_ohe', 'wb')\n",
    "pickle.dump(train_shipping_ohe, file)\n",
    "file.close()\n",
    "file = open('./preprocess_outputs/test_shipping_ohe', 'wb')\n",
    "pickle.dump(test_shipping_ohe, file)\n",
    "file.close()\n",
    "\n",
    "file = open('./preprocess_outputs/train_item_cond_ohe', 'wb')\n",
    "pickle.dump(train_item_cond_ohe, file)\n",
    "file.close()\n",
    "file = open('./preprocess_outputs/test_item_cond_ohe', 'wb')\n",
    "pickle.dump(test_item_cond_ohe, file)\n",
    "file.close()\n",
    "\n",
    "file = open('./preprocess_outputs/train_branded_ohe', 'wb')\n",
    "pickle.dump(train_branded_ohe, file)\n",
    "file.close()\n",
    "file = open('./preprocess_outputs/test_branded_ohe', 'wb')\n",
    "pickle.dump(test_branded_ohe, file)\n",
    "file.close()"
   ]
  },
  {
   "cell_type": "markdown",
   "metadata": {},
   "source": [
    "## Encoding text features"
   ]
  },
  {
   "cell_type": "code",
   "execution_count": 24,
   "metadata": {},
   "outputs": [
    {
     "name": "stdout",
     "output_type": "stream",
     "text": [
      "0\n",
      "0\n"
     ]
    }
   ],
   "source": [
    "train['desc_preprocess'].fillna(\"\", inplace=True)\n",
    "print(train['desc_preprocess'].isna().sum())\n",
    "\n",
    "test['desc_preprocess'].fillna(\"\", inplace=True)\n",
    "print(test['desc_preprocess'].isna().sum())"
   ]
  },
  {
   "cell_type": "code",
   "execution_count": 25,
   "metadata": {},
   "outputs": [
    {
     "name": "stdout",
     "output_type": "stream",
     "text": [
      "(993295, 1000000)\n",
      "(489236, 1000000)\n",
      "Wall time: 3min 10s\n"
     ]
    }
   ],
   "source": [
    "%%time\n",
    "\n",
    "vectorizer = TfidfVectorizer(max_features=1000000, ngram_range=(1,2))\n",
    "vectorizer.fit(train['desc_preprocess'])\n",
    "\n",
    "train_desc_tfidf = vectorizer.transform(train['desc_preprocess'])\n",
    "test_desc_tfidf = vectorizer.transform(test['desc_preprocess'])\n",
    "\n",
    "print(train_desc_tfidf.shape)\n",
    "print(test_desc_tfidf.shape)"
   ]
  },
  {
   "cell_type": "code",
   "execution_count": 26,
   "metadata": {},
   "outputs": [],
   "source": [
    "file = open('./preprocess_outputs/train_desc_tfidf', 'wb')\n",
    "pickle.dump(train_desc_tfidf, file)\n",
    "file.close()\n",
    "\n",
    "file = open('./preprocess_outputs/test_desc_tfidf', 'wb')\n",
    "pickle.dump(test_desc_tfidf, file)\n",
    "file.close()"
   ]
  },
  {
   "cell_type": "markdown",
   "metadata": {},
   "source": [
    "## Encoding categories"
   ]
  },
  {
   "cell_type": "code",
   "execution_count": 27,
   "metadata": {},
   "outputs": [
    {
     "name": "stdout",
     "output_type": "stream",
     "text": [
      "Wall time: 1.77 s\n"
     ]
    }
   ],
   "source": [
    "%%time\n",
    "\n",
    "train[\"category1\"] = train[\"category1\"].apply(lambda x: \"\" if (x == \"No category\") else x)\n",
    "train[\"category2\"] = train[\"category2\"].apply(lambda x: \"\" if (x == \"No category\") else x)\n",
    "train[\"category3\"] = train[\"category3\"].apply(lambda x: \"\" if (x == \"No category\") else x)\n",
    "train[\"category4\"] = train[\"category4\"].apply(lambda x: \"\" if (x == \"No category\") else x)\n",
    "train[\"category5\"] = train[\"category5\"].apply(lambda x: \"\" if (x == \"No category\") else x)\n",
    "\n",
    "test[\"category1\"] = test[\"category1\"].apply(lambda x: \"\" if (x == \"No category\") else x)\n",
    "test[\"category2\"] = test[\"category2\"].apply(lambda x: \"\" if (x == \"No category\") else x)\n",
    "test[\"category3\"] = test[\"category3\"].apply(lambda x: \"\" if (x == \"No category\") else x)\n",
    "test[\"category4\"] = test[\"category4\"].apply(lambda x: \"\" if (x == \"No category\") else x)\n",
    "test[\"category5\"] = test[\"category5\"].apply(lambda x: \"\" if (x == \"No category\") else x)\n",
    "# Wall time: 1.77 s"
   ]
  },
  {
   "cell_type": "code",
   "execution_count": 28,
   "metadata": {},
   "outputs": [
    {
     "name": "stdout",
     "output_type": "stream",
     "text": [
      "(993295, 12)\n",
      "(489236, 12) \n",
      "\n",
      "(993295, 141)\n",
      "(489236, 141) \n",
      "\n",
      "(993295, 954)\n",
      "(489236, 954) \n",
      "\n",
      "(993295, 7)\n",
      "(489236, 7) \n",
      "\n",
      "(993295, 3)\n",
      "(489236, 3) \n",
      "\n",
      "Wall time: 49.4 s\n"
     ]
    }
   ],
   "source": [
    "%%time\n",
    "\n",
    "vectorizer = CountVectorizer()\n",
    "vectorizer.fit(train['category1'])\n",
    "train_cat1_bow = vectorizer.transform(train['category1'])\n",
    "test_cat1_bow = vectorizer.transform(test['category1'])\n",
    "\n",
    "vectorizer = CountVectorizer()\n",
    "vectorizer.fit(train['category2'])\n",
    "train_cat2_bow = vectorizer.transform(train['category2'])\n",
    "test_cat2_bow = vectorizer.transform(test['category2'])\n",
    "\n",
    "vectorizer = CountVectorizer()\n",
    "vectorizer.fit(train['category3'])\n",
    "train_cat3_bow = vectorizer.transform(train['category3'])\n",
    "test_cat3_bow = vectorizer.transform(test['category3'])\n",
    "\n",
    "vectorizer = CountVectorizer()\n",
    "vectorizer.fit(train['category4'])\n",
    "train_cat4_bow = vectorizer.transform(train['category4'])\n",
    "test_cat4_bow = vectorizer.transform(test['category4'])\n",
    "\n",
    "vectorizer = CountVectorizer()\n",
    "vectorizer.fit(train['category5'])\n",
    "train_cat5_bow = vectorizer.transform(train['category5'])\n",
    "test_cat5_bow = vectorizer.transform(test['category5'])\n",
    "\n",
    "print(train_cat1_bow.shape)\n",
    "print(test_cat1_bow.shape,\"\\n\")\n",
    "print(train_cat2_bow.shape)\n",
    "print(test_cat2_bow.shape,\"\\n\")\n",
    "print(train_cat3_bow.shape)\n",
    "print(test_cat3_bow.shape,\"\\n\")\n",
    "print(train_cat4_bow.shape)\n",
    "print(test_cat4_bow.shape,\"\\n\")\n",
    "print(train_cat5_bow.shape)\n",
    "print(test_cat5_bow.shape,\"\\n\")\n",
    "# Wall time: 53.4 s"
   ]
  },
  {
   "cell_type": "code",
   "execution_count": 29,
   "metadata": {},
   "outputs": [
    {
     "name": "stdout",
     "output_type": "stream",
     "text": [
      "(993295, 1117)\n",
      "(489236, 1117)\n"
     ]
    }
   ],
   "source": [
    "train_cat_bow = hstack((train_cat1_bow, train_cat2_bow, train_cat3_bow, train_cat4_bow, train_cat5_bow))\n",
    "test_cat_bow = hstack((test_cat1_bow, test_cat2_bow, test_cat3_bow, test_cat4_bow, test_cat5_bow))\n",
    "print(train_cat_bow.shape)\n",
    "print(test_cat_bow.shape)"
   ]
  },
  {
   "cell_type": "code",
   "execution_count": 30,
   "metadata": {},
   "outputs": [],
   "source": [
    "pickle.dump(train_cat_bow, open('./preprocess_outputs/train_cat_bow', 'wb'))\n",
    "pickle.dump(test_cat_bow, open('./preprocess_outputs/test_cat_bow', 'wb'))"
   ]
  },
  {
   "cell_type": "markdown",
   "metadata": {},
   "source": [
    "In the EDA, we saw that the median of log price of items per category, shipping status, and brand had significance. So, now, we will try to generate new features based on that."
   ]
  },
  {
   "cell_type": "code",
   "execution_count": 31,
   "metadata": {},
   "outputs": [],
   "source": [
    "#https://pandas.pydata.org/pandas-docs/version/0.23.1/generated/pandas.core.groupby.DataFrameGroupBy.agg.html\n",
    "#https://jamesrledoux.com/code/group-by-aggregate-pandas"
   ]
  },
  {
   "cell_type": "code",
   "execution_count": 32,
   "metadata": {},
   "outputs": [],
   "source": [
    "# grouped = train['category1']+'/'+train['category2']+'/'+train['category3']+'/'+train['category4']+'/'+train['category5']"
   ]
  },
  {
   "cell_type": "code",
   "execution_count": 33,
   "metadata": {},
   "outputs": [
    {
     "data": {
      "text/html": [
       "<div>\n",
       "<style scoped>\n",
       "    .dataframe tbody tr th:only-of-type {\n",
       "        vertical-align: middle;\n",
       "    }\n",
       "\n",
       "    .dataframe tbody tr th {\n",
       "        vertical-align: top;\n",
       "    }\n",
       "\n",
       "    .dataframe thead th {\n",
       "        text-align: right;\n",
       "    }\n",
       "</style>\n",
       "<table border=\"1\" class=\"dataframe\">\n",
       "  <thead>\n",
       "    <tr style=\"text-align: right;\">\n",
       "      <th></th>\n",
       "      <th>category1</th>\n",
       "      <th>category2</th>\n",
       "      <th>category3</th>\n",
       "      <th>category4</th>\n",
       "      <th>category5</th>\n",
       "      <th>shipping</th>\n",
       "      <th>branded</th>\n",
       "      <th>item_condition_id</th>\n",
       "      <th>grouped_med</th>\n",
       "    </tr>\n",
       "  </thead>\n",
       "  <tbody>\n",
       "    <tr>\n",
       "      <th>0</th>\n",
       "      <td></td>\n",
       "      <td></td>\n",
       "      <td></td>\n",
       "      <td></td>\n",
       "      <td></td>\n",
       "      <td>0</td>\n",
       "      <td>0</td>\n",
       "      <td>1</td>\n",
       "      <td>2.944439</td>\n",
       "    </tr>\n",
       "    <tr>\n",
       "      <th>1</th>\n",
       "      <td></td>\n",
       "      <td></td>\n",
       "      <td></td>\n",
       "      <td></td>\n",
       "      <td></td>\n",
       "      <td>0</td>\n",
       "      <td>0</td>\n",
       "      <td>2</td>\n",
       "      <td>2.833213</td>\n",
       "    </tr>\n",
       "    <tr>\n",
       "      <th>2</th>\n",
       "      <td></td>\n",
       "      <td></td>\n",
       "      <td></td>\n",
       "      <td></td>\n",
       "      <td></td>\n",
       "      <td>0</td>\n",
       "      <td>0</td>\n",
       "      <td>3</td>\n",
       "      <td>2.944439</td>\n",
       "    </tr>\n",
       "    <tr>\n",
       "      <th>3</th>\n",
       "      <td></td>\n",
       "      <td></td>\n",
       "      <td></td>\n",
       "      <td></td>\n",
       "      <td></td>\n",
       "      <td>0</td>\n",
       "      <td>0</td>\n",
       "      <td>4</td>\n",
       "      <td>2.740319</td>\n",
       "    </tr>\n",
       "    <tr>\n",
       "      <th>4</th>\n",
       "      <td></td>\n",
       "      <td></td>\n",
       "      <td></td>\n",
       "      <td></td>\n",
       "      <td></td>\n",
       "      <td>0</td>\n",
       "      <td>0</td>\n",
       "      <td>5</td>\n",
       "      <td>2.302585</td>\n",
       "    </tr>\n",
       "    <tr>\n",
       "      <th>...</th>\n",
       "      <td>...</td>\n",
       "      <td>...</td>\n",
       "      <td>...</td>\n",
       "      <td>...</td>\n",
       "      <td>...</td>\n",
       "      <td>...</td>\n",
       "      <td>...</td>\n",
       "      <td>...</td>\n",
       "      <td>...</td>\n",
       "    </tr>\n",
       "    <tr>\n",
       "      <th>11913</th>\n",
       "      <td>Women</td>\n",
       "      <td>Women's Handbags</td>\n",
       "      <td>Totes &amp; Shoppers</td>\n",
       "      <td></td>\n",
       "      <td></td>\n",
       "      <td>1</td>\n",
       "      <td>1</td>\n",
       "      <td>1</td>\n",
       "      <td>3.258097</td>\n",
       "    </tr>\n",
       "    <tr>\n",
       "      <th>11914</th>\n",
       "      <td>Women</td>\n",
       "      <td>Women's Handbags</td>\n",
       "      <td>Totes &amp; Shoppers</td>\n",
       "      <td></td>\n",
       "      <td></td>\n",
       "      <td>1</td>\n",
       "      <td>1</td>\n",
       "      <td>2</td>\n",
       "      <td>3.367296</td>\n",
       "    </tr>\n",
       "    <tr>\n",
       "      <th>11915</th>\n",
       "      <td>Women</td>\n",
       "      <td>Women's Handbags</td>\n",
       "      <td>Totes &amp; Shoppers</td>\n",
       "      <td></td>\n",
       "      <td></td>\n",
       "      <td>1</td>\n",
       "      <td>1</td>\n",
       "      <td>3</td>\n",
       "      <td>3.637586</td>\n",
       "    </tr>\n",
       "    <tr>\n",
       "      <th>11916</th>\n",
       "      <td>Women</td>\n",
       "      <td>Women's Handbags</td>\n",
       "      <td>Totes &amp; Shoppers</td>\n",
       "      <td></td>\n",
       "      <td></td>\n",
       "      <td>1</td>\n",
       "      <td>1</td>\n",
       "      <td>4</td>\n",
       "      <td>3.481122</td>\n",
       "    </tr>\n",
       "    <tr>\n",
       "      <th>11917</th>\n",
       "      <td>Women</td>\n",
       "      <td>Women's Handbags</td>\n",
       "      <td>Totes &amp; Shoppers</td>\n",
       "      <td></td>\n",
       "      <td></td>\n",
       "      <td>1</td>\n",
       "      <td>1</td>\n",
       "      <td>5</td>\n",
       "      <td>2.564949</td>\n",
       "    </tr>\n",
       "  </tbody>\n",
       "</table>\n",
       "<p>11918 rows × 9 columns</p>\n",
       "</div>"
      ],
      "text/plain": [
       "      category1         category2         category3 category4 category5  \\\n",
       "0                                                                         \n",
       "1                                                                         \n",
       "2                                                                         \n",
       "3                                                                         \n",
       "4                                                                         \n",
       "...         ...               ...               ...       ...       ...   \n",
       "11913     Women  Women's Handbags  Totes & Shoppers                       \n",
       "11914     Women  Women's Handbags  Totes & Shoppers                       \n",
       "11915     Women  Women's Handbags  Totes & Shoppers                       \n",
       "11916     Women  Women's Handbags  Totes & Shoppers                       \n",
       "11917     Women  Women's Handbags  Totes & Shoppers                       \n",
       "\n",
       "       shipping  branded  item_condition_id  grouped_med  \n",
       "0             0        0                  1     2.944439  \n",
       "1             0        0                  2     2.833213  \n",
       "2             0        0                  3     2.944439  \n",
       "3             0        0                  4     2.740319  \n",
       "4             0        0                  5     2.302585  \n",
       "...         ...      ...                ...          ...  \n",
       "11913         1        1                  1     3.258097  \n",
       "11914         1        1                  2     3.367296  \n",
       "11915         1        1                  3     3.637586  \n",
       "11916         1        1                  4     3.481122  \n",
       "11917         1        1                  5     2.564949  \n",
       "\n",
       "[11918 rows x 9 columns]"
      ]
     },
     "execution_count": 33,
     "metadata": {},
     "output_type": "execute_result"
    }
   ],
   "source": [
    "grouped_med = train.groupby(['category1','category2','category3','category4','category5','shipping','branded','item_condition_id']).agg({'price_log':np.median})\n",
    "grouped_med.columns = ['grouped_med']\n",
    "grouped_med = grouped_med.reset_index()\n",
    "grouped_med"
   ]
  },
  {
   "cell_type": "code",
   "execution_count": 34,
   "metadata": {},
   "outputs": [
    {
     "data": {
      "text/html": [
       "<div>\n",
       "<style scoped>\n",
       "    .dataframe tbody tr th:only-of-type {\n",
       "        vertical-align: middle;\n",
       "    }\n",
       "\n",
       "    .dataframe tbody tr th {\n",
       "        vertical-align: top;\n",
       "    }\n",
       "\n",
       "    .dataframe thead th {\n",
       "        text-align: right;\n",
       "    }\n",
       "</style>\n",
       "<table border=\"1\" class=\"dataframe\">\n",
       "  <thead>\n",
       "    <tr style=\"text-align: right;\">\n",
       "      <th></th>\n",
       "      <th>train_id</th>\n",
       "      <th>name</th>\n",
       "      <th>item_condition_id</th>\n",
       "      <th>brand_name</th>\n",
       "      <th>price</th>\n",
       "      <th>shipping</th>\n",
       "      <th>item_description</th>\n",
       "      <th>price_log</th>\n",
       "      <th>category1</th>\n",
       "      <th>category2</th>\n",
       "      <th>category3</th>\n",
       "      <th>category4</th>\n",
       "      <th>category5</th>\n",
       "      <th>branded</th>\n",
       "      <th>name_preprocess</th>\n",
       "      <th>desc_preprocess</th>\n",
       "      <th>grouped_med</th>\n",
       "    </tr>\n",
       "  </thead>\n",
       "  <tbody>\n",
       "    <tr>\n",
       "      <th>0</th>\n",
       "      <td>1381157</td>\n",
       "      <td>Cross Stitch Books</td>\n",
       "      <td>3</td>\n",
       "      <td>missing</td>\n",
       "      <td>12.0</td>\n",
       "      <td>0</td>\n",
       "      <td>3 cross stitch books. Leisure Arts Christmas R...</td>\n",
       "      <td>2.564949</td>\n",
       "      <td>Handmade</td>\n",
       "      <td>Patterns</td>\n",
       "      <td>Cross Stitch</td>\n",
       "      <td></td>\n",
       "      <td></td>\n",
       "      <td>0</td>\n",
       "      <td>cross stitch books</td>\n",
       "      <td>3 cross stitch books leisure arts christmas re...</td>\n",
       "      <td>2.564949</td>\n",
       "    </tr>\n",
       "    <tr>\n",
       "      <th>1</th>\n",
       "      <td>646655</td>\n",
       "      <td>Sz 7 Crocs flats</td>\n",
       "      <td>2</td>\n",
       "      <td>Crocs</td>\n",
       "      <td>11.0</td>\n",
       "      <td>0</td>\n",
       "      <td>These are like new. I bought them for me. They...</td>\n",
       "      <td>2.484907</td>\n",
       "      <td>Women</td>\n",
       "      <td>Shoes</td>\n",
       "      <td>Flats</td>\n",
       "      <td></td>\n",
       "      <td></td>\n",
       "      <td>1</td>\n",
       "      <td>sz 7 crocs flats</td>\n",
       "      <td>these like new i bought they say size 9 they w...</td>\n",
       "      <td>3.091042</td>\n",
       "    </tr>\n",
       "    <tr>\n",
       "      <th>2</th>\n",
       "      <td>1199244</td>\n",
       "      <td>BVLGARI OMNIA CORAL 5ml</td>\n",
       "      <td>2</td>\n",
       "      <td>Sephora</td>\n",
       "      <td>14.0</td>\n",
       "      <td>0</td>\n",
       "      <td>5 ml travel size bottle of BVLGARI perfume OMN...</td>\n",
       "      <td>2.708050</td>\n",
       "      <td>Beauty</td>\n",
       "      <td>Fragrance</td>\n",
       "      <td>Women</td>\n",
       "      <td></td>\n",
       "      <td></td>\n",
       "      <td>1</td>\n",
       "      <td>bvlgari omnia coral 5ml</td>\n",
       "      <td>5 ml travel size bottle bvlgari perfume omnia ...</td>\n",
       "      <td>2.944439</td>\n",
       "    </tr>\n",
       "    <tr>\n",
       "      <th>3</th>\n",
       "      <td>615187</td>\n",
       "      <td>AMERICAN APPAREL Black Leather Hat Cap</td>\n",
       "      <td>3</td>\n",
       "      <td>American Apparel</td>\n",
       "      <td>10.0</td>\n",
       "      <td>1</td>\n",
       "      <td>AMERICAN APPAREL black leather baseball hat, o...</td>\n",
       "      <td>2.397895</td>\n",
       "      <td>Women</td>\n",
       "      <td>Women's Accessories</td>\n",
       "      <td>Hats</td>\n",
       "      <td></td>\n",
       "      <td></td>\n",
       "      <td>1</td>\n",
       "      <td>american apparel black leather hat cap</td>\n",
       "      <td>american apparel black leather baseball hat on...</td>\n",
       "      <td>2.564949</td>\n",
       "    </tr>\n",
       "    <tr>\n",
       "      <th>4</th>\n",
       "      <td>836137</td>\n",
       "      <td>Julio Urias 2015 Bowman Orange RC /25</td>\n",
       "      <td>3</td>\n",
       "      <td>Topps</td>\n",
       "      <td>15.0</td>\n",
       "      <td>1</td>\n",
       "      <td>2015 Bowman Draft Orange Parallel Rookie /25 L...</td>\n",
       "      <td>2.772589</td>\n",
       "      <td>Vintage &amp; Collectibles</td>\n",
       "      <td>Trading Cards</td>\n",
       "      <td>Sports</td>\n",
       "      <td></td>\n",
       "      <td></td>\n",
       "      <td>1</td>\n",
       "      <td>julio urias 2015 bowman orange rc 25</td>\n",
       "      <td>2015 bowman draft orange parallel rookie 25 lo...</td>\n",
       "      <td>2.079442</td>\n",
       "    </tr>\n",
       "  </tbody>\n",
       "</table>\n",
       "</div>"
      ],
      "text/plain": [
       "   train_id                                    name  item_condition_id  \\\n",
       "0   1381157                      Cross Stitch Books                  3   \n",
       "1    646655                        Sz 7 Crocs flats                  2   \n",
       "2   1199244                 BVLGARI OMNIA CORAL 5ml                  2   \n",
       "3    615187  AMERICAN APPAREL Black Leather Hat Cap                  3   \n",
       "4    836137   Julio Urias 2015 Bowman Orange RC /25                  3   \n",
       "\n",
       "         brand_name  price  shipping  \\\n",
       "0           missing   12.0         0   \n",
       "1             Crocs   11.0         0   \n",
       "2           Sephora   14.0         0   \n",
       "3  American Apparel   10.0         1   \n",
       "4             Topps   15.0         1   \n",
       "\n",
       "                                    item_description  price_log  \\\n",
       "0  3 cross stitch books. Leisure Arts Christmas R...   2.564949   \n",
       "1  These are like new. I bought them for me. They...   2.484907   \n",
       "2  5 ml travel size bottle of BVLGARI perfume OMN...   2.708050   \n",
       "3  AMERICAN APPAREL black leather baseball hat, o...   2.397895   \n",
       "4  2015 Bowman Draft Orange Parallel Rookie /25 L...   2.772589   \n",
       "\n",
       "                category1            category2     category3 category4  \\\n",
       "0                Handmade             Patterns  Cross Stitch             \n",
       "1                   Women                Shoes         Flats             \n",
       "2                  Beauty            Fragrance         Women             \n",
       "3                   Women  Women's Accessories          Hats             \n",
       "4  Vintage & Collectibles        Trading Cards        Sports             \n",
       "\n",
       "  category5  branded                         name_preprocess  \\\n",
       "0                  0                      cross stitch books   \n",
       "1                  1                        sz 7 crocs flats   \n",
       "2                  1                 bvlgari omnia coral 5ml   \n",
       "3                  1  american apparel black leather hat cap   \n",
       "4                  1    julio urias 2015 bowman orange rc 25   \n",
       "\n",
       "                                     desc_preprocess  grouped_med  \n",
       "0  3 cross stitch books leisure arts christmas re...     2.564949  \n",
       "1  these like new i bought they say size 9 they w...     3.091042  \n",
       "2  5 ml travel size bottle bvlgari perfume omnia ...     2.944439  \n",
       "3  american apparel black leather baseball hat on...     2.564949  \n",
       "4  2015 bowman draft orange parallel rookie 25 lo...     2.079442  "
      ]
     },
     "execution_count": 34,
     "metadata": {},
     "output_type": "execute_result"
    }
   ],
   "source": [
    "# Need to put these median values as per the variables involved.\n",
    "# for that we need to join this master dataset with the transactional dataset\n",
    "\n",
    "train_med_price_log = train.merge(grouped_med, how='left', on=['category1','category2','category3','category4','category5','shipping','branded','item_condition_id'])\n",
    "train_med_price_log.head()"
   ]
  },
  {
   "cell_type": "code",
   "execution_count": 35,
   "metadata": {},
   "outputs": [
    {
     "data": {
      "image/png": "[encoded data removed]",
      "text/plain": [
       "<Figure size 432x288 with 1 Axes>"
      ]
     },
     "metadata": {
      "needs_background": "light"
     },
     "output_type": "display_data"
    }
   ],
   "source": [
    "import seaborn as sns\n",
    "from matplotlib import pyplot as plt\n",
    "\n",
    "sns.distplot(train_med_price_log['grouped_med'], kde=True)\n",
    "plt.show()"
   ]
  },
  {
   "cell_type": "code",
   "execution_count": 36,
   "metadata": {},
   "outputs": [
    {
     "data": {
      "image/png": "[encoded data removed]",
      "text/plain": [
       "<Figure size 432x288 with 1 Axes>"
      ]
     },
     "metadata": {
      "needs_background": "light"
     },
     "output_type": "display_data"
    }
   ],
   "source": [
    "# Since 'grouped_med' is an input feature, we need to standardize it\n",
    "#https://scikit-learn.org/stable/modules/generated/sklearn.preprocessing.StandardScaler.html\n",
    "\n",
    "std = StandardScaler(copy=True)\n",
    "train_grouped_mean_std = std.fit_transform(train_med_price_log['grouped_med'].values.reshape(-1,1))\n",
    "sns.distplot(train_grouped_mean_std, kde=True)\n",
    "plt.show()"
   ]
  },
  {
   "cell_type": "code",
   "execution_count": 37,
   "metadata": {},
   "outputs": [
    {
     "data": {
      "text/plain": [
       "(993295, 1)"
      ]
     },
     "execution_count": 37,
     "metadata": {},
     "output_type": "execute_result"
    }
   ],
   "source": [
    "train_grouped_mean_std.shape"
   ]
  },
  {
   "cell_type": "code",
   "execution_count": 38,
   "metadata": {},
   "outputs": [],
   "source": [
    "pickle.dump(train_grouped_mean_std, open('./preprocess_outputs/train_grouped_mean_std', 'wb'))"
   ]
  },
  {
   "cell_type": "markdown",
   "metadata": {},
   "source": [
    "Let's check the correlation"
   ]
  },
  {
   "cell_type": "code",
   "execution_count": 39,
   "metadata": {},
   "outputs": [
    {
     "data": {
      "text/plain": [
       "0.0010999133104708481"
      ]
     },
     "execution_count": 39,
     "metadata": {},
     "output_type": "execute_result"
    }
   ],
   "source": [
    "train_med_price_log['grouped_med'].corr(train['price_log'])"
   ]
  },
  {
   "cell_type": "markdown",
   "metadata": {},
   "source": [
    "The correlation is greater than 0.5. Hence, we can keep this feature."
   ]
  },
  {
   "cell_type": "code",
   "execution_count": 40,
   "metadata": {},
   "outputs": [
    {
     "data": {
      "text/html": [
       "<div>\n",
       "<style scoped>\n",
       "    .dataframe tbody tr th:only-of-type {\n",
       "        vertical-align: middle;\n",
       "    }\n",
       "\n",
       "    .dataframe tbody tr th {\n",
       "        vertical-align: top;\n",
       "    }\n",
       "\n",
       "    .dataframe thead th {\n",
       "        text-align: right;\n",
       "    }\n",
       "</style>\n",
       "<table border=\"1\" class=\"dataframe\">\n",
       "  <thead>\n",
       "    <tr style=\"text-align: right;\">\n",
       "      <th></th>\n",
       "      <th>train_id</th>\n",
       "      <th>name</th>\n",
       "      <th>item_condition_id</th>\n",
       "      <th>brand_name</th>\n",
       "      <th>price</th>\n",
       "      <th>shipping</th>\n",
       "      <th>item_description</th>\n",
       "      <th>price_log</th>\n",
       "      <th>category1</th>\n",
       "      <th>category2</th>\n",
       "      <th>category3</th>\n",
       "      <th>category4</th>\n",
       "      <th>category5</th>\n",
       "      <th>branded</th>\n",
       "      <th>name_preprocess</th>\n",
       "      <th>desc_preprocess</th>\n",
       "      <th>grouped_med</th>\n",
       "    </tr>\n",
       "  </thead>\n",
       "  <tbody>\n",
       "    <tr>\n",
       "      <th>0</th>\n",
       "      <td>113674</td>\n",
       "      <td>Brand New Lularoe Randy Large</td>\n",
       "      <td>1</td>\n",
       "      <td>LuLaRoe</td>\n",
       "      <td>35.0</td>\n",
       "      <td>1</td>\n",
       "      <td></td>\n",
       "      <td>3.583519</td>\n",
       "      <td>Women</td>\n",
       "      <td>Tops &amp; Blouses</td>\n",
       "      <td>T-Shirts</td>\n",
       "      <td></td>\n",
       "      <td></td>\n",
       "      <td>1</td>\n",
       "      <td>brand new lularoe randy large</td>\n",
       "      <td></td>\n",
       "      <td>3.218876</td>\n",
       "    </tr>\n",
       "    <tr>\n",
       "      <th>1</th>\n",
       "      <td>46709</td>\n",
       "      <td>Agate glass jewelry holder</td>\n",
       "      <td>1</td>\n",
       "      <td>Anthropologie</td>\n",
       "      <td>21.0</td>\n",
       "      <td>0</td>\n",
       "      <td>It currently holds my hoard of agates but perf...</td>\n",
       "      <td>3.091042</td>\n",
       "      <td>Home</td>\n",
       "      <td>Storage &amp; Organization</td>\n",
       "      <td>Jewelry Boxes &amp; Organizers</td>\n",
       "      <td></td>\n",
       "      <td></td>\n",
       "      <td>1</td>\n",
       "      <td>agate glass jewelry holder</td>\n",
       "      <td>it currently holds hoard agates perfect jewelr...</td>\n",
       "      <td>2.740319</td>\n",
       "    </tr>\n",
       "    <tr>\n",
       "      <th>2</th>\n",
       "      <td>822909</td>\n",
       "      <td>Air Jordan Retro 6 Men's size 11.5 White</td>\n",
       "      <td>2</td>\n",
       "      <td>Air Jordan</td>\n",
       "      <td>129.0</td>\n",
       "      <td>0</td>\n",
       "      <td>I am selling my Jordan Retro 6s Men's size 11....</td>\n",
       "      <td>4.867534</td>\n",
       "      <td>Men</td>\n",
       "      <td>Shoes</td>\n",
       "      <td>Athletic</td>\n",
       "      <td></td>\n",
       "      <td></td>\n",
       "      <td>1</td>\n",
       "      <td>air jordan retro 6 men size 11 5 white</td>\n",
       "      <td>i selling jordan retro 6s men size 11 5 they r...</td>\n",
       "      <td>4.043051</td>\n",
       "    </tr>\n",
       "    <tr>\n",
       "      <th>3</th>\n",
       "      <td>1378226</td>\n",
       "      <td>20g nose studs</td>\n",
       "      <td>1</td>\n",
       "      <td>missing</td>\n",
       "      <td>10.0</td>\n",
       "      <td>0</td>\n",
       "      <td>Brand new never been opened. Made of sterling ...</td>\n",
       "      <td>2.397895</td>\n",
       "      <td>Other</td>\n",
       "      <td>Other</td>\n",
       "      <td>Other</td>\n",
       "      <td></td>\n",
       "      <td></td>\n",
       "      <td>0</td>\n",
       "      <td>20g nose studs</td>\n",
       "      <td>brand new never opened made sterling silver st...</td>\n",
       "      <td>2.995732</td>\n",
       "    </tr>\n",
       "    <tr>\n",
       "      <th>4</th>\n",
       "      <td>528205</td>\n",
       "      <td>Weekend Warrior YL Oils</td>\n",
       "      <td>2</td>\n",
       "      <td>Weekend Warrior YL Oils</td>\n",
       "      <td>32.0</td>\n",
       "      <td>1</td>\n",
       "      <td>2 young living oils Valor2 and peaceNcalming2 ...</td>\n",
       "      <td>3.496508</td>\n",
       "      <td>Women</td>\n",
       "      <td>Other</td>\n",
       "      <td>Other</td>\n",
       "      <td></td>\n",
       "      <td></td>\n",
       "      <td>0</td>\n",
       "      <td>weekend warrior yl oils</td>\n",
       "      <td>2 young living oils valor2 peacencalming2 5ml ...</td>\n",
       "      <td>2.564949</td>\n",
       "    </tr>\n",
       "  </tbody>\n",
       "</table>\n",
       "</div>"
      ],
      "text/plain": [
       "   train_id                                      name  item_condition_id  \\\n",
       "0    113674             Brand New Lularoe Randy Large                  1   \n",
       "1     46709                Agate glass jewelry holder                  1   \n",
       "2    822909  Air Jordan Retro 6 Men's size 11.5 White                  2   \n",
       "3   1378226                            20g nose studs                  1   \n",
       "4    528205                   Weekend Warrior YL Oils                  2   \n",
       "\n",
       "                brand_name  price  shipping  \\\n",
       "0                  LuLaRoe   35.0         1   \n",
       "1            Anthropologie   21.0         0   \n",
       "2               Air Jordan  129.0         0   \n",
       "3                  missing   10.0         0   \n",
       "4  Weekend Warrior YL Oils   32.0         1   \n",
       "\n",
       "                                    item_description  price_log category1  \\\n",
       "0                                                      3.583519     Women   \n",
       "1  It currently holds my hoard of agates but perf...   3.091042      Home   \n",
       "2  I am selling my Jordan Retro 6s Men's size 11....   4.867534       Men   \n",
       "3  Brand new never been opened. Made of sterling ...   2.397895     Other   \n",
       "4  2 young living oils Valor2 and peaceNcalming2 ...   3.496508     Women   \n",
       "\n",
       "                category2                   category3 category4 category5  \\\n",
       "0          Tops & Blouses                    T-Shirts                       \n",
       "1  Storage & Organization  Jewelry Boxes & Organizers                       \n",
       "2                   Shoes                    Athletic                       \n",
       "3                   Other                       Other                       \n",
       "4                   Other                       Other                       \n",
       "\n",
       "   branded                         name_preprocess  \\\n",
       "0        1           brand new lularoe randy large   \n",
       "1        1              agate glass jewelry holder   \n",
       "2        1  air jordan retro 6 men size 11 5 white   \n",
       "3        0                          20g nose studs   \n",
       "4        0                 weekend warrior yl oils   \n",
       "\n",
       "                                     desc_preprocess  grouped_med  \n",
       "0                                                        3.218876  \n",
       "1  it currently holds hoard agates perfect jewelr...     2.740319  \n",
       "2  i selling jordan retro 6s men size 11 5 they r...     4.043051  \n",
       "3  brand new never opened made sterling silver st...     2.995732  \n",
       "4  2 young living oils valor2 peacencalming2 5ml ...     2.564949  "
      ]
     },
     "execution_count": 40,
     "metadata": {},
     "output_type": "execute_result"
    }
   ],
   "source": [
    "# Similarly for test dataset\n",
    "test_med_price_log = test.merge(grouped_med, how='left', on=['category1','category2','category3','category4','category5','shipping','branded','item_condition_id'])\n",
    "test_med_price_log.head()"
   ]
  },
  {
   "cell_type": "code",
   "execution_count": 41,
   "metadata": {},
   "outputs": [
    {
     "data": {
      "image/png": "[encoded data removed]",
      "text/plain": [
       "<Figure size 432x288 with 1 Axes>"
      ]
     },
     "metadata": {
      "needs_background": "light"
     },
     "output_type": "display_data"
    }
   ],
   "source": [
    "test_med_price_log['grouped_med'].fillna(0, inplace=True)\n",
    "sns.distplot(test_med_price_log['grouped_med'], kde=True)\n",
    "plt.show()"
   ]
  },
  {
   "cell_type": "code",
   "execution_count": 42,
   "metadata": {},
   "outputs": [
    {
     "data": {
      "image/png": "[encoded data removed]",
      "text/plain": [
       "<Figure size 432x288 with 1 Axes>"
      ]
     },
     "metadata": {
      "needs_background": "light"
     },
     "output_type": "display_data"
    }
   ],
   "source": [
    "test_grouped_mean_std = std.transform(test_med_price_log['grouped_med'].values.reshape(-1,1))\n",
    "sns.distplot(test_grouped_mean_std, kde=True)\n",
    "plt.show()"
   ]
  },
  {
   "cell_type": "code",
   "execution_count": 43,
   "metadata": {},
   "outputs": [
    {
     "data": {
      "text/plain": [
       "(489236, 1)"
      ]
     },
     "execution_count": 43,
     "metadata": {},
     "output_type": "execute_result"
    }
   ],
   "source": [
    "test_grouped_mean_std.shape"
   ]
  },
  {
   "cell_type": "code",
   "execution_count": 44,
   "metadata": {},
   "outputs": [],
   "source": [
    "pickle.dump(test_grouped_mean_std, open('./preprocess_outputs/test_grouped_mean_std', 'wb'))"
   ]
  },
  {
   "cell_type": "markdown",
   "metadata": {},
   "source": [
    "Let's check the correlation"
   ]
  },
  {
   "cell_type": "code",
   "execution_count": 45,
   "metadata": {},
   "outputs": [
    {
     "data": {
      "text/plain": [
       "-0.0032864129944217024"
      ]
     },
     "execution_count": 45,
     "metadata": {},
     "output_type": "execute_result"
    }
   ],
   "source": [
    "test_med_price_log['grouped_med'].corr(test['price_log'])"
   ]
  },
  {
   "cell_type": "markdown",
   "metadata": {},
   "source": [
    "The correlation is greater than 0.5. Hence, we can keep this feature."
   ]
  },
  {
   "cell_type": "markdown",
   "metadata": {},
   "source": [
    "## Sentiment Analysis"
   ]
  },
  {
   "cell_type": "code",
   "execution_count": 46,
   "metadata": {},
   "outputs": [
    {
     "data": {
      "text/plain": [
       "0"
      ]
     },
     "execution_count": 46,
     "metadata": {},
     "output_type": "execute_result"
    }
   ],
   "source": [
    "train['desc_preprocess'].isna().sum()"
   ]
  },
  {
   "cell_type": "code",
   "execution_count": 47,
   "metadata": {},
   "outputs": [
    {
     "name": "stdout",
     "output_type": "stream",
     "text": [
      "0\n",
      "0\n"
     ]
    }
   ],
   "source": [
    "test.fillna(\"\", inplace=True)\n",
    "print(test['desc_preprocess'].isna().sum())\n",
    "\n",
    "test.fillna(\"\", inplace=True)\n",
    "print(test['desc_preprocess'].isna().sum())"
   ]
  },
  {
   "cell_type": "markdown",
   "metadata": {},
   "source": [
    "Let's do the sentiment analysis on description of products, using nltk SentimentIntensityAnalyser function"
   ]
  },
  {
   "cell_type": "code",
   "execution_count": 48,
   "metadata": {},
   "outputs": [],
   "source": [
    "def get_sentiment_score(data):\n",
    "    \n",
    "    # Create a SentimentIntensityAnalyzer object. \n",
    "    sid_obj = SentimentIntensityAnalyzer()\n",
    "    senti_scores=[]\n",
    "  \n",
    "    # polarity_scores method of SentimentIntensityAnalyzer object gives a sentiment dictionary. \n",
    "    # this contains pos, neg, neu, and compound scores.\n",
    "    for sentence in tqdm(data):\n",
    "        sentiment_dict = sid_obj.polarity_scores(sentence)\n",
    "        senti_scores.append(sentiment_dict['compound'])\n",
    "    \n",
    "    return np.array(senti_scores).reshape(-1,1)"
   ]
  },
  {
   "cell_type": "code",
   "execution_count": 49,
   "metadata": {},
   "outputs": [
    {
     "name": "stderr",
     "output_type": "stream",
     "text": [
      "100%|████████████████████████████████| 993295/993295 [07:07<00:00, 2325.48it/s]"
     ]
    },
    {
     "name": "stdout",
     "output_type": "stream",
     "text": [
      "(993295, 1)\n"
     ]
    },
    {
     "name": "stderr",
     "output_type": "stream",
     "text": [
      "\n"
     ]
    }
   ],
   "source": [
    "train_desc_senti = get_sentiment_score(train['desc_preprocess'].astype('str'))\n",
    "print(train_desc_senti.shape)"
   ]
  },
  {
   "cell_type": "code",
   "execution_count": 50,
   "metadata": {},
   "outputs": [
    {
     "name": "stderr",
     "output_type": "stream",
     "text": [
      "100%|████████████████████████████████| 489236/489236 [03:08<00:00, 2588.66it/s]\n"
     ]
    },
    {
     "name": "stdout",
     "output_type": "stream",
     "text": [
      "(489236, 1)\n"
     ]
    }
   ],
   "source": [
    "test_desc_senti = get_sentiment_score(test['desc_preprocess'].astype('str'))\n",
    "print(test_desc_senti.shape)"
   ]
  },
  {
   "cell_type": "code",
   "execution_count": 51,
   "metadata": {},
   "outputs": [],
   "source": [
    "pickle.dump(train_desc_senti, open('./preprocess_outputs/train_desc_senti', 'wb'))\n",
    "pickle.dump(test_desc_senti, open('./preprocess_outputs/test_desc_senti', 'wb'))"
   ]
  },
  {
   "cell_type": "code",
   "execution_count": null,
   "metadata": {},
   "outputs": [],
   "source": []
  }
 ],
 "metadata": {
  "kernelspec": {
   "display_name": "Python 3",
   "language": "python",
   "name": "python3"
  },
  "language_info": {
   "codemirror_mode": {
    "name": "ipython",
    "version": 3
   },
   "file_extension": ".py",
   "mimetype": "text/x-python",
   "name": "python",
   "nbconvert_exporter": "python",
   "pygments_lexer": "ipython3",
   "version": "3.7.5"
  }
 },
 "nbformat": 4,
 "nbformat_minor": 2
}
